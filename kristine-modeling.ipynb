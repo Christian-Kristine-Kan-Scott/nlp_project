{
 "cells": [
  {
   "cell_type": "markdown",
   "id": "4301ec15",
   "metadata": {},
   "source": [
    "# Modeling"
   ]
  },
  {
   "cell_type": "code",
   "execution_count": 1,
   "id": "7dede43a",
   "metadata": {},
   "outputs": [],
   "source": [
    "import pandas as pd\n",
    "from split_get_scale import SplitGetScale\n",
    "from sklearn.metrics import confusion_matrix\n",
    "from sklearn.metrics import classification_report\n",
    "\n",
    "\n",
    "\n",
    "df = pd.read_csv(\"nutrition_repos_clean_stemmed_lemmatize.csv\")"
   ]
  },
  {
   "cell_type": "markdown",
   "id": "4644a990",
   "metadata": {},
   "source": [
    "### Baseline"
   ]
  },
  {
   "cell_type": "code",
   "execution_count": 2,
   "id": "84d5e008",
   "metadata": {},
   "outputs": [],
   "source": [
    "# establish baseline\n",
    "\n",
    "baseline = pd.DataFrame(df.language)\n",
    "baseline['baseline'] = 'other'"
   ]
  },
  {
   "cell_type": "code",
   "execution_count": 3,
   "id": "a56aacfe",
   "metadata": {},
   "outputs": [
    {
     "data": {
      "text/html": [
       "<div>\n",
       "<style scoped>\n",
       "    .dataframe tbody tr th:only-of-type {\n",
       "        vertical-align: middle;\n",
       "    }\n",
       "\n",
       "    .dataframe tbody tr th {\n",
       "        vertical-align: top;\n",
       "    }\n",
       "\n",
       "    .dataframe thead th {\n",
       "        text-align: right;\n",
       "    }\n",
       "</style>\n",
       "<table border=\"1\" class=\"dataframe\">\n",
       "  <thead>\n",
       "    <tr style=\"text-align: right;\">\n",
       "      <th></th>\n",
       "      <th>language</th>\n",
       "      <th>baseline</th>\n",
       "    </tr>\n",
       "  </thead>\n",
       "  <tbody>\n",
       "    <tr>\n",
       "      <th>0</th>\n",
       "      <td>Java</td>\n",
       "      <td>other</td>\n",
       "    </tr>\n",
       "    <tr>\n",
       "      <th>1</th>\n",
       "      <td>Java</td>\n",
       "      <td>other</td>\n",
       "    </tr>\n",
       "    <tr>\n",
       "      <th>2</th>\n",
       "      <td>JavaScript</td>\n",
       "      <td>other</td>\n",
       "    </tr>\n",
       "    <tr>\n",
       "      <th>3</th>\n",
       "      <td>other</td>\n",
       "      <td>other</td>\n",
       "    </tr>\n",
       "    <tr>\n",
       "      <th>4</th>\n",
       "      <td>Python</td>\n",
       "      <td>other</td>\n",
       "    </tr>\n",
       "    <tr>\n",
       "      <th>...</th>\n",
       "      <td>...</td>\n",
       "      <td>...</td>\n",
       "    </tr>\n",
       "    <tr>\n",
       "      <th>112</th>\n",
       "      <td>other</td>\n",
       "      <td>other</td>\n",
       "    </tr>\n",
       "    <tr>\n",
       "      <th>113</th>\n",
       "      <td>other</td>\n",
       "      <td>other</td>\n",
       "    </tr>\n",
       "    <tr>\n",
       "      <th>114</th>\n",
       "      <td>other</td>\n",
       "      <td>other</td>\n",
       "    </tr>\n",
       "    <tr>\n",
       "      <th>115</th>\n",
       "      <td>JavaScript</td>\n",
       "      <td>other</td>\n",
       "    </tr>\n",
       "    <tr>\n",
       "      <th>116</th>\n",
       "      <td>Java</td>\n",
       "      <td>other</td>\n",
       "    </tr>\n",
       "  </tbody>\n",
       "</table>\n",
       "<p>117 rows × 2 columns</p>\n",
       "</div>"
      ],
      "text/plain": [
       "       language baseline\n",
       "0          Java    other\n",
       "1          Java    other\n",
       "2    JavaScript    other\n",
       "3         other    other\n",
       "4        Python    other\n",
       "..          ...      ...\n",
       "112       other    other\n",
       "113       other    other\n",
       "114       other    other\n",
       "115  JavaScript    other\n",
       "116        Java    other\n",
       "\n",
       "[117 rows x 2 columns]"
      ]
     },
     "execution_count": 3,
     "metadata": {},
     "output_type": "execute_result"
    }
   ],
   "source": [
    "baseline"
   ]
  },
  {
   "cell_type": "code",
   "execution_count": 4,
   "id": "892fee34",
   "metadata": {},
   "outputs": [
    {
     "data": {
      "text/plain": [
       "0.44"
      ]
     },
     "execution_count": 4,
     "metadata": {},
     "output_type": "execute_result"
    }
   ],
   "source": [
    "# establish baseline accuracy\n",
    "\n",
    "baseline_accuracy = round((baseline.language == baseline.baseline).mean(),2)\n",
    "baseline_accuracy"
   ]
  },
  {
   "cell_type": "code",
   "execution_count": 5,
   "id": "e0c3a2ca",
   "metadata": {},
   "outputs": [],
   "source": [
    "# split\n",
    "\n",
    "sgs = SplitGetScale()\n",
    "train, test = sgs.split(df)"
   ]
  },
  {
   "cell_type": "code",
   "execution_count": 6,
   "id": "cb93c56e",
   "metadata": {},
   "outputs": [],
   "source": [
    "(X_train_stemmed, y_train_stemmed), (X_test_stemmed, y_test_stemmed) = sgs.get_Xy(train, test, cols_train=\"clean_stemmed\")\n",
    "(X_train_lemmed, y_train_lemmed), (X_test_lemmed, y_test_lemmed) = sgs.get_Xy(train, test, cols_train=\"clean_lemmatized\")"
   ]
  },
  {
   "cell_type": "code",
   "execution_count": 7,
   "id": "ad18e354",
   "metadata": {},
   "outputs": [
    {
     "name": "stdout",
     "output_type": "stream",
     "text": [
      "train:  (93, 5547) , test:  (24, 5547)\n"
     ]
    }
   ],
   "source": [
    "print(\"train: \", X_train_stemmed.shape, \", test: \", X_test_stemmed.shape)"
   ]
  },
  {
   "cell_type": "code",
   "execution_count": 8,
   "id": "43656b98",
   "metadata": {},
   "outputs": [
    {
     "name": "stdout",
     "output_type": "stream",
     "text": [
      "train:  (93,) , test:  (24,)\n"
     ]
    }
   ],
   "source": [
    "print(\"train: \", y_train_lemmed.shape, \", test: \", y_test_lemmed.shape)"
   ]
  },
  {
   "cell_type": "code",
   "execution_count": 9,
   "id": "8eb0cb1e",
   "metadata": {},
   "outputs": [
    {
     "data": {
      "text/plain": [
       "<24x5547 sparse matrix of type '<class 'numpy.float64'>'\n",
       "\twith 2132 stored elements in Compressed Sparse Row format>"
      ]
     },
     "execution_count": 9,
     "metadata": {},
     "output_type": "execute_result"
    }
   ],
   "source": [
    "X_test_stemmed"
   ]
  },
  {
   "cell_type": "code",
   "execution_count": 11,
   "id": "4b8e4966",
   "metadata": {},
   "outputs": [
    {
     "data": {
      "text/plain": [
       "KNeighborsClassifier(n_neighbors=4)"
      ]
     },
     "execution_count": 11,
     "metadata": {},
     "output_type": "execute_result"
    }
   ],
   "source": [
    "#KNN\n",
    "\n",
    "from sklearn.neighbors import KNeighborsClassifier\n",
    "\n",
    "\n",
    "# Create the object\n",
    "knn = KNeighborsClassifier(n_neighbors=4, weights='uniform')\n",
    "\n",
    "#Fit the model\n",
    "knn.fit(X_train_stemmed, y_train_stemmed)"
   ]
  },
  {
   "cell_type": "code",
   "execution_count": 12,
   "id": "0c74596e",
   "metadata": {},
   "outputs": [
    {
     "name": "stdout",
     "output_type": "stream",
     "text": [
      "Accuracy of KNN classifier on training set: 0.645\n"
     ]
    }
   ],
   "source": [
    "#Make predictions on train\n",
    "y_train_pred = knn.predict(X_train_stemmed)\n",
    "\n",
    "#Estimate probability\n",
    "y_train_pred_proba = knn.predict_proba(X_train_stemmed)\n",
    "\n",
    "#Evaluate on accuracy\n",
    "\n",
    "# assign accuracy to variable to call later\n",
    "knn_train_accuracy = knn.score(X_train_stemmed, y_train_stemmed)\n",
    "\n",
    "print('Accuracy of KNN classifier on training set: {:.3f}'\n",
    "     .format(knn.score(X_train_stemmed, y_train_stemmed)))\n"
   ]
  },
  {
   "cell_type": "code",
   "execution_count": 13,
   "id": "584e48c6",
   "metadata": {},
   "outputs": [
    {
     "name": "stdout",
     "output_type": "stream",
     "text": [
      "Accuracy of KNN classifier on test set: 0.333\n"
     ]
    }
   ],
   "source": [
    "#Make predictions on validate\n",
    "y_validate_pred = knn.predict(X_test_stemmed)\n",
    "\n",
    "#Estimate probability\n",
    "y_validate_pred_proba = knn.predict_proba(X_test_stemmed)\n",
    "\n",
    "#Evaluate on accuracy\n",
    "print('Accuracy of KNN classifier on test set: {:.3f}'\n",
    "     .format(knn.score(X_test_stemmed, y_test_stemmed)))\n",
    "\n",
    "# assign accuracy to variable to call later\n",
    "knn_test_accuracy = round(knn.score(X_test_stemmed, y_test_stemmed),3)"
   ]
  },
  {
   "cell_type": "code",
   "execution_count": 20,
   "id": "92db278c",
   "metadata": {},
   "outputs": [
    {
     "ename": "NameError",
     "evalue": "name 'y_train' is not defined",
     "output_type": "error",
     "traceback": [
      "\u001b[0;31m---------------------------------------------------------------------------\u001b[0m",
      "\u001b[0;31mNameError\u001b[0m                                 Traceback (most recent call last)",
      "\u001b[0;32m<ipython-input-20-4f751440bc66>\u001b[0m in \u001b[0;36m<module>\u001b[0;34m\u001b[0m\n\u001b[0;32m----> 1\u001b[0;31m \u001b[0mprint\u001b[0m\u001b[0;34m(\u001b[0m\u001b[0mconfusion_matrix\u001b[0m\u001b[0;34m(\u001b[0m\u001b[0my_train\u001b[0m\u001b[0;34m,\u001b[0m \u001b[0my_train_pred\u001b[0m\u001b[0;34m)\u001b[0m\u001b[0;34m)\u001b[0m\u001b[0;34m\u001b[0m\u001b[0;34m\u001b[0m\u001b[0m\n\u001b[0m",
      "\u001b[0;31mNameError\u001b[0m: name 'y_train' is not defined"
     ]
    }
   ],
   "source": [
    "print(confusion_matrix(y_train, y_train_pred))"
   ]
  },
  {
   "cell_type": "code",
   "execution_count": 14,
   "id": "618b52b3",
   "metadata": {},
   "outputs": [],
   "source": [
    "# lemmed"
   ]
  },
  {
   "cell_type": "code",
   "execution_count": null,
   "id": "3cc17056",
   "metadata": {},
   "outputs": [],
   "source": []
  },
  {
   "cell_type": "code",
   "execution_count": null,
   "id": "e7ae079b",
   "metadata": {},
   "outputs": [],
   "source": []
  },
  {
   "cell_type": "code",
   "execution_count": null,
   "id": "33c4636d",
   "metadata": {},
   "outputs": [],
   "source": []
  }
 ],
 "metadata": {
  "kernelspec": {
   "display_name": "Python 3",
   "language": "python",
   "name": "python3"
  },
  "language_info": {
   "codemirror_mode": {
    "name": "ipython",
    "version": 3
   },
   "file_extension": ".py",
   "mimetype": "text/x-python",
   "name": "python",
   "nbconvert_exporter": "python",
   "pygments_lexer": "ipython3",
   "version": "3.8.8"
  }
 },
 "nbformat": 4,
 "nbformat_minor": 5
}
