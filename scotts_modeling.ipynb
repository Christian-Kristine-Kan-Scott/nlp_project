{
 "cells": [
  {
   "cell_type": "markdown",
   "metadata": {},
   "source": [
    "### Import Data"
   ]
  },
  {
   "cell_type": "code",
   "execution_count": 38,
   "metadata": {},
   "outputs": [
    {
     "data": {
      "text/plain": [
       "other         52\n",
       "JavaScript    34\n",
       "Python        19\n",
       "Java          12\n",
       "Name: language, dtype: int64"
      ]
     },
     "execution_count": 38,
     "metadata": {},
     "output_type": "execute_result"
    }
   ],
   "source": [
    "import pandas as pd\n",
    "nut_rep = pd.read_csv(\"nutrition_repos_clean_stemmed_lemmatize.csv\")\n",
    "nut_rep[\"language\"].value_counts()"
   ]
  },
  {
   "cell_type": "markdown",
   "metadata": {},
   "source": [
    "### Split Data into Train/Test"
   ]
  },
  {
   "cell_type": "code",
   "execution_count": 39,
   "metadata": {},
   "outputs": [],
   "source": [
    "from split_get_scale import SplitGetScale\n",
    "\n",
    "sgs = SplitGetScale()\n",
    "train, test = sgs.split(nut_rep)"
   ]
  },
  {
   "cell_type": "code",
   "execution_count": 40,
   "metadata": {},
   "outputs": [
    {
     "data": {
      "text/plain": [
       "((93, 5), (24, 5))"
      ]
     },
     "execution_count": 40,
     "metadata": {},
     "output_type": "execute_result"
    }
   ],
   "source": [
    "train.shape, test.shape"
   ]
  },
  {
   "cell_type": "code",
   "execution_count": 41,
   "metadata": {},
   "outputs": [
    {
     "data": {
      "text/html": [
       "<div>\n",
       "<style scoped>\n",
       "    .dataframe tbody tr th:only-of-type {\n",
       "        vertical-align: middle;\n",
       "    }\n",
       "\n",
       "    .dataframe tbody tr th {\n",
       "        vertical-align: top;\n",
       "    }\n",
       "\n",
       "    .dataframe thead th {\n",
       "        text-align: right;\n",
       "    }\n",
       "</style>\n",
       "<table border=\"1\" class=\"dataframe\">\n",
       "  <thead>\n",
       "    <tr style=\"text-align: right;\">\n",
       "      <th></th>\n",
       "      <th>language</th>\n",
       "      <th>readme_contents</th>\n",
       "      <th>clean</th>\n",
       "      <th>clean_stemmed</th>\n",
       "      <th>clean_lemmatized</th>\n",
       "    </tr>\n",
       "  </thead>\n",
       "  <tbody>\n",
       "    <tr>\n",
       "      <th>31</th>\n",
       "      <td>Python</td>\n",
       "      <td>The internet is full of recipes. A recipe is r...</td>\n",
       "      <td>the internet is full of recipes a recipe is re...</td>\n",
       "      <td>internet full recip recip realli onli direct i...</td>\n",
       "      <td>internet full recipe recipe really direction i...</td>\n",
       "    </tr>\n",
       "    <tr>\n",
       "      <th>29</th>\n",
       "      <td>other</td>\n",
       "      <td>[![Build Status](https://travis-ci.org/openpan...</td>\n",
       "      <td>build statushttpstravisciorgopenpantryopenpant...</td>\n",
       "      <td>build statushttpstravisciorgopenpantryopenpant...</td>\n",
       "      <td>build statushttpstravisciorgopenpantryopenpant...</td>\n",
       "    </tr>\n",
       "    <tr>\n",
       "      <th>107</th>\n",
       "      <td>JavaScript</td>\n",
       "      <td># NutritionIQ\\nNutritionIQ is a machine-learni...</td>\n",
       "      <td>nutritioniq\\nnutritioniq is a machinelearning ...</td>\n",
       "      <td>nutritioniq nutritioniq machinelearn base rece...</td>\n",
       "      <td>nutritioniq nutritioniq machinelearning based ...</td>\n",
       "    </tr>\n",
       "    <tr>\n",
       "      <th>23</th>\n",
       "      <td>other</td>\n",
       "      <td>&lt;p align=\"center\"&gt;\\n   &lt;a href=\"https://calori...</td>\n",
       "      <td>p aligncenter\\n a hrefhttpscaloriesincom targe...</td>\n",
       "      <td>p aligncent hrefhttpscaloriesincom targetblank...</td>\n",
       "      <td>p aligncenter hrefhttpscaloriesincom targetbla...</td>\n",
       "    </tr>\n",
       "    <tr>\n",
       "      <th>9</th>\n",
       "      <td>other</td>\n",
       "      <td># NutritionCal\\n\\nNutrition Diary is a food an...</td>\n",
       "      <td>nutritioncal\\n\\nnutrition diary is a food and ...</td>\n",
       "      <td>nutritionc nutrit diari food nutrit app help e...</td>\n",
       "      <td>nutritioncal nutrition diary food nutrition ap...</td>\n",
       "    </tr>\n",
       "  </tbody>\n",
       "</table>\n",
       "</div>"
      ],
      "text/plain": [
       "       language                                    readme_contents  \\\n",
       "31       Python  The internet is full of recipes. A recipe is r...   \n",
       "29        other  [![Build Status](https://travis-ci.org/openpan...   \n",
       "107  JavaScript  # NutritionIQ\\nNutritionIQ is a machine-learni...   \n",
       "23        other  <p align=\"center\">\\n   <a href=\"https://calori...   \n",
       "9         other  # NutritionCal\\n\\nNutrition Diary is a food an...   \n",
       "\n",
       "                                                 clean  \\\n",
       "31   the internet is full of recipes a recipe is re...   \n",
       "29   build statushttpstravisciorgopenpantryopenpant...   \n",
       "107  nutritioniq\\nnutritioniq is a machinelearning ...   \n",
       "23   p aligncenter\\n a hrefhttpscaloriesincom targe...   \n",
       "9    nutritioncal\\n\\nnutrition diary is a food and ...   \n",
       "\n",
       "                                         clean_stemmed  \\\n",
       "31   internet full recip recip realli onli direct i...   \n",
       "29   build statushttpstravisciorgopenpantryopenpant...   \n",
       "107  nutritioniq nutritioniq machinelearn base rece...   \n",
       "23   p aligncent hrefhttpscaloriesincom targetblank...   \n",
       "9    nutritionc nutrit diari food nutrit app help e...   \n",
       "\n",
       "                                      clean_lemmatized  \n",
       "31   internet full recipe recipe really direction i...  \n",
       "29   build statushttpstravisciorgopenpantryopenpant...  \n",
       "107  nutritioniq nutritioniq machinelearning based ...  \n",
       "23   p aligncenter hrefhttpscaloriesincom targetbla...  \n",
       "9    nutritioncal nutrition diary food nutrition ap...  "
      ]
     },
     "execution_count": 41,
     "metadata": {},
     "output_type": "execute_result"
    }
   ],
   "source": [
    "train.head()"
   ]
  },
  {
   "cell_type": "markdown",
   "metadata": {},
   "source": [
    "### Split Train/Test into X_train/y_train"
   ]
  },
  {
   "cell_type": "code",
   "execution_count": 42,
   "metadata": {},
   "outputs": [],
   "source": [
    "(X_train_stemmed, y_train_stemmed), (X_test_stemmed, y_test_stemmed) = sgs.get_Xy(train, test, cols_train=\"clean_stemmed\")\n",
    "(X_train_lemmed, y_train_lemmed), (X_test_lemmed, y_test_lemmed) = sgs.get_Xy(train, test, cols_train=\"clean_lemmatized\")"
   ]
  },
  {
   "cell_type": "markdown",
   "metadata": {},
   "source": [
    "### Machine Learning"
   ]
  },
  {
   "cell_type": "code",
   "execution_count": 43,
   "metadata": {},
   "outputs": [],
   "source": [
    "from sklearn.ensemble import RandomForestClassifier\n",
    "from sklearn.model_selection import RandomizedSearchCV\n",
    "from sklearn.metrics import accuracy_score\n",
    "from sklearn.metrics import classification_report"
   ]
  },
  {
   "cell_type": "markdown",
   "metadata": {},
   "source": [
    "#### Baseline"
   ]
  },
  {
   "cell_type": "code",
   "execution_count": 44,
   "metadata": {},
   "outputs": [
    {
     "data": {
      "text/plain": [
       "0     other\n",
       "1     other\n",
       "2     other\n",
       "3     other\n",
       "4     other\n",
       "      ...  \n",
       "88    other\n",
       "89    other\n",
       "90    other\n",
       "91    other\n",
       "92    other\n",
       "Length: 93, dtype: object"
      ]
     },
     "execution_count": 44,
     "metadata": {},
     "output_type": "execute_result"
    }
   ],
   "source": [
    "baseline_prediction = pd.Series([\"other\"] * len(train[\"language\"]))\n",
    "baseline_prediction"
   ]
  },
  {
   "cell_type": "code",
   "execution_count": 45,
   "metadata": {},
   "outputs": [
    {
     "name": "stdout",
     "output_type": "stream",
     "text": [
      "Baseline Accuracy: 0.42\n"
     ]
    }
   ],
   "source": [
    "print(f\"Baseline Accuracy: {round(accuracy_score(train['language'], baseline_prediction), 2)}\")"
   ]
  },
  {
   "cell_type": "markdown",
   "metadata": {},
   "source": [
    "#### Modeling"
   ]
  },
  {
   "cell_type": "code",
   "execution_count": 46,
   "metadata": {},
   "outputs": [],
   "source": [
    "estimator = RandomForestClassifier(random_state=123)\n",
    "params_d = {\"n_estimators\": [10, 25, 50, 100], \"max_depth\": [5, 10, 25, None], \"min_samples_split\": [2, 4, 6, 8, 10], \"min_samples_leaf\": [1, 5, 10], \"bootstrap\": [True, False], \"warm_start\": [True, False]}"
   ]
  },
  {
   "cell_type": "code",
   "execution_count": 47,
   "metadata": {},
   "outputs": [],
   "source": [
    "fit_stemmed = RandomizedSearchCV(estimator=estimator, param_distributions=params_d, n_iter=50, random_state=123).fit(X_train_stemmed, y_train_stemmed)\n",
    "fit_lemmed = RandomizedSearchCV(estimator=estimator, param_distributions=params_d, n_iter=50, random_state=123).fit(X_train_lemmed, y_train_lemmed)"
   ]
  },
  {
   "cell_type": "code",
   "execution_count": 48,
   "metadata": {},
   "outputs": [
    {
     "data": {
      "text/plain": [
       "(RandomForestClassifier(bootstrap=False, max_depth=5, min_samples_leaf=5,\n",
       "                        min_samples_split=6, n_estimators=10, random_state=123,\n",
       "                        warm_start=True),\n",
       " {'warm_start': True,\n",
       "  'n_estimators': 10,\n",
       "  'min_samples_split': 6,\n",
       "  'min_samples_leaf': 5,\n",
       "  'max_depth': 5,\n",
       "  'bootstrap': False})"
      ]
     },
     "execution_count": 48,
     "metadata": {},
     "output_type": "execute_result"
    }
   ],
   "source": [
    "fit_stemmed.best_estimator_, fit_stemmed.best_params_"
   ]
  },
  {
   "cell_type": "code",
   "execution_count": 49,
   "metadata": {},
   "outputs": [
    {
     "data": {
      "text/plain": [
       "(RandomForestClassifier(min_samples_split=4, n_estimators=10, random_state=123,\n",
       "                        warm_start=True),\n",
       " {'warm_start': True,\n",
       "  'n_estimators': 10,\n",
       "  'min_samples_split': 4,\n",
       "  'min_samples_leaf': 1,\n",
       "  'max_depth': None,\n",
       "  'bootstrap': True})"
      ]
     },
     "execution_count": 49,
     "metadata": {},
     "output_type": "execute_result"
    }
   ],
   "source": [
    "fit_lemmed.best_estimator_, fit_lemmed.best_params_"
   ]
  },
  {
   "cell_type": "code",
   "execution_count": 50,
   "metadata": {},
   "outputs": [],
   "source": [
    "rfc_stem =  RandomForestClassifier(max_depth=5, min_samples_leaf=5, min_samples_split=6, n_estimators=10, random_state=123, warm_start=True, bootstrap=False)\n",
    "rfc_lem =  RandomForestClassifier(min_samples_split=4, n_estimators=10, min_samples_leaf=1, random_state=123, warm_start=True, max_depth=None, bootstrap=True)\n",
    "\n",
    "rfc_stem.fit(X_train_stemmed, y_train_stemmed)\n",
    "rfc_lem.fit(X_train_lemmed, y_train_lemmed)\n",
    "\n",
    "y_pred_train_stem = rfc_stem.predict(X_train_stemmed)\n",
    "y_pred_train_lem = rfc_lem.predict(X_train_lemmed)\n",
    "\n",
    "y_pred_test_stem = rfc_stem.predict(X_test_stemmed)\n",
    "y_pred_test_lem = rfc_lem.predict(X_test_lemmed)"
   ]
  },
  {
   "cell_type": "code",
   "execution_count": 51,
   "metadata": {},
   "outputs": [
    {
     "name": "stdout",
     "output_type": "stream",
     "text": [
      "TRAIN\n",
      "Random Forest Classifier Stemmed Accuracy: 0.68\n",
      "Random Forest Classifier Lemmed Accuracy: 0.5\n",
      "\n",
      "TEST\n",
      "Random Forest Classifier Stemmed Accuracy Test: 0.98\n",
      "Random Forest Classifier Lemmed Accuracy Test: 0.5\n"
     ]
    }
   ],
   "source": [
    "print(f\"TRAIN\\nRandom Forest Classifier Stemmed Accuracy: {round(accuracy_score(y_train_stemmed, y_pred_train_stem), 2)}\")\n",
    "print(f\"Random Forest Classifier Lemmed Accuracy: {round(accuracy_score(y_test_stemmed, y_pred_test_stem), 2)}\")\n",
    "\n",
    "\n",
    "print(f\"\\nTEST\\nRandom Forest Classifier Stemmed Accuracy Test: {round(accuracy_score(y_train_lemmed, y_pred_train_lem), 2)}\")\n",
    "print(f\"Random Forest Classifier Lemmed Accuracy Test: {round(accuracy_score(y_test_lemmed, y_pred_test_lem), 2)}\")"
   ]
  },
  {
   "cell_type": "markdown",
   "metadata": {},
   "source": [
    "#### Both beat baseline, but it looks really bad"
   ]
  },
  {
   "cell_type": "code",
   "execution_count": null,
   "metadata": {},
   "outputs": [],
   "source": []
  }
 ],
 "metadata": {
  "interpreter": {
   "hash": "3d597f4c481aa0f25dceb95d2a0067e73c0966dcbd003d741d821a7208527ecf"
  },
  "kernelspec": {
   "display_name": "Python 3.9.5 64-bit ('base': conda)",
   "language": "python",
   "name": "python3"
  },
  "language_info": {
   "codemirror_mode": {
    "name": "ipython",
    "version": 3
   },
   "file_extension": ".py",
   "mimetype": "text/x-python",
   "name": "python",
   "nbconvert_exporter": "python",
   "pygments_lexer": "ipython3",
   "version": "3.9.5"
  },
  "orig_nbformat": 4
 },
 "nbformat": 4,
 "nbformat_minor": 2
}
