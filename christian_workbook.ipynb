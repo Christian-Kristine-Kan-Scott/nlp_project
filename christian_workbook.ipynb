{
 "cells": [
  {
   "cell_type": "code",
   "execution_count": 1,
   "id": "70f4da42",
   "metadata": {},
   "outputs": [],
   "source": [
    "import matplotlib.pyplot as plt\n",
    "import seaborn as sns\n",
    "import pandas as pd\n",
    "import nltk\n",
    "import unicodedata\n",
    "import re"
   ]
  },
  {
   "cell_type": "code",
   "execution_count": 2,
   "id": "afb682f1",
   "metadata": {},
   "outputs": [],
   "source": [
    "df = pd.read_csv('nutrition_repos_clean_stemmed_lemmatize.csv')"
   ]
  },
  {
   "cell_type": "code",
   "execution_count": 3,
   "id": "b2ee56b2",
   "metadata": {},
   "outputs": [
    {
     "data": {
      "text/html": [
       "<div>\n",
       "<style scoped>\n",
       "    .dataframe tbody tr th:only-of-type {\n",
       "        vertical-align: middle;\n",
       "    }\n",
       "\n",
       "    .dataframe tbody tr th {\n",
       "        vertical-align: top;\n",
       "    }\n",
       "\n",
       "    .dataframe thead th {\n",
       "        text-align: right;\n",
       "    }\n",
       "</style>\n",
       "<table border=\"1\" class=\"dataframe\">\n",
       "  <thead>\n",
       "    <tr style=\"text-align: right;\">\n",
       "      <th></th>\n",
       "      <th>language</th>\n",
       "      <th>readme_contents</th>\n",
       "      <th>clean</th>\n",
       "      <th>clean_stemmed</th>\n",
       "      <th>clean_lemmatized</th>\n",
       "    </tr>\n",
       "  </thead>\n",
       "  <tbody>\n",
       "    <tr>\n",
       "      <th>0</th>\n",
       "      <td>Java</td>\n",
       "      <td># Nutrition\\n\\nNutrition is a highly configura...</td>\n",
       "      <td>nutrition\\n\\nnutrition is a highly configurabl...</td>\n",
       "      <td>nutrit nutrit highli configur mod enabl creati...</td>\n",
       "      <td>nutrition nutrition highly configurable mod en...</td>\n",
       "    </tr>\n",
       "    <tr>\n",
       "      <th>1</th>\n",
       "      <td>Java</td>\n",
       "      <td>\\n## 营养大师\\n\\n一款基于数据分析的智能饮食推荐APP  \\n\\n仓库地址: htt...</td>\n",
       "      <td>app \\n\\n httpsgithubcomwangtianruinutritionmas...</td>\n",
       "      <td>app httpsgithubcomwangtianruinutritionmast api...</td>\n",
       "      <td>app httpsgithubcomwangtianruinutritionmaster a...</td>\n",
       "    </tr>\n",
       "    <tr>\n",
       "      <th>2</th>\n",
       "      <td>JavaScript</td>\n",
       "      <td>Nutrition Label jQuery Plugin by Nutritionix\\r...</td>\n",
       "      <td>nutrition label jquery plugin by nutritionix\\r...</td>\n",
       "      <td>nutrit label jqueri plugin nutritionix npmhttp...</td>\n",
       "      <td>nutrition label jquery plugin nutritionix npmh...</td>\n",
       "    </tr>\n",
       "    <tr>\n",
       "      <th>3</th>\n",
       "      <td>Jupyter Notebook</td>\n",
       "      <td>\\n# off-nutrition-table-extractor\\nThis reposi...</td>\n",
       "      <td>offnutritiontableextractor\\nthis repository is...</td>\n",
       "      <td>offnutritiontableextractor thi repositori accu...</td>\n",
       "      <td>offnutritiontableextractor repository accumula...</td>\n",
       "    </tr>\n",
       "    <tr>\n",
       "      <th>4</th>\n",
       "      <td>Python</td>\n",
       "      <td>﻿# wger\\n&lt;img src=\"https://raw.githubuserconte...</td>\n",
       "      <td>wger\\nimg srchttpsrawgithubusercontentcomwgerp...</td>\n",
       "      <td>wger img srchttpsrawgithubusercontentcomwgerpr...</td>\n",
       "      <td>wger img srchttpsrawgithubusercontentcomwgerpr...</td>\n",
       "    </tr>\n",
       "  </tbody>\n",
       "</table>\n",
       "</div>"
      ],
      "text/plain": [
       "           language                                    readme_contents  \\\n",
       "0              Java  # Nutrition\\n\\nNutrition is a highly configura...   \n",
       "1              Java  \\n## 营养大师\\n\\n一款基于数据分析的智能饮食推荐APP  \\n\\n仓库地址: htt...   \n",
       "2        JavaScript  Nutrition Label jQuery Plugin by Nutritionix\\r...   \n",
       "3  Jupyter Notebook  \\n# off-nutrition-table-extractor\\nThis reposi...   \n",
       "4            Python  ﻿# wger\\n<img src=\"https://raw.githubuserconte...   \n",
       "\n",
       "                                               clean  \\\n",
       "0  nutrition\\n\\nnutrition is a highly configurabl...   \n",
       "1  app \\n\\n httpsgithubcomwangtianruinutritionmas...   \n",
       "2  nutrition label jquery plugin by nutritionix\\r...   \n",
       "3  offnutritiontableextractor\\nthis repository is...   \n",
       "4  wger\\nimg srchttpsrawgithubusercontentcomwgerp...   \n",
       "\n",
       "                                       clean_stemmed  \\\n",
       "0  nutrit nutrit highli configur mod enabl creati...   \n",
       "1  app httpsgithubcomwangtianruinutritionmast api...   \n",
       "2  nutrit label jqueri plugin nutritionix npmhttp...   \n",
       "3  offnutritiontableextractor thi repositori accu...   \n",
       "4  wger img srchttpsrawgithubusercontentcomwgerpr...   \n",
       "\n",
       "                                    clean_lemmatized  \n",
       "0  nutrition nutrition highly configurable mod en...  \n",
       "1  app httpsgithubcomwangtianruinutritionmaster a...  \n",
       "2  nutrition label jquery plugin nutritionix npmh...  \n",
       "3  offnutritiontableextractor repository accumula...  \n",
       "4  wger img srchttpsrawgithubusercontentcomwgerpr...  "
      ]
     },
     "execution_count": 3,
     "metadata": {},
     "output_type": "execute_result"
    }
   ],
   "source": [
    "df.head()"
   ]
  },
  {
   "cell_type": "code",
   "execution_count": 4,
   "id": "65356bfb",
   "metadata": {},
   "outputs": [
    {
     "data": {
      "text/plain": [
       "language            0\n",
       "readme_contents     0\n",
       "clean               1\n",
       "clean_stemmed       1\n",
       "clean_lemmatized    1\n",
       "dtype: int64"
      ]
     },
     "execution_count": 4,
     "metadata": {},
     "output_type": "execute_result"
    }
   ],
   "source": [
    "df.isnull().sum()"
   ]
  },
  {
   "cell_type": "code",
   "execution_count": null,
   "id": "239de76a",
   "metadata": {},
   "outputs": [],
   "source": [
    "df."
   ]
  }
 ],
 "metadata": {
  "kernelspec": {
   "display_name": "Python 3 (ipykernel)",
   "language": "python",
   "name": "python3"
  },
  "language_info": {
   "codemirror_mode": {
    "name": "ipython",
    "version": 3
   },
   "file_extension": ".py",
   "mimetype": "text/x-python",
   "name": "python",
   "nbconvert_exporter": "python",
   "pygments_lexer": "ipython3",
   "version": "3.9.7"
  }
 },
 "nbformat": 4,
 "nbformat_minor": 5
}
