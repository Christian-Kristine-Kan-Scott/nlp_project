{
 "cells": [
  {
   "cell_type": "code",
   "execution_count": 1,
   "id": "70f4da42",
   "metadata": {},
   "outputs": [],
   "source": [
    "import matplotlib.pyplot as plt\n",
    "import seaborn as sns\n",
    "import pandas as pd\n",
    "import numpy as np\n",
    "import nltk\n",
    "import unicodedata\n",
    "import re\n",
    "from scipy import stats\n",
    "import warnings\n",
    "warnings.filterwarnings(\"ignore\")"
   ]
  },
  {
   "cell_type": "markdown",
   "id": "a4d64fe9",
   "metadata": {},
   "source": [
    "# Question 3 Does the length of Readme vary by programming language ?"
   ]
  },
  {
   "cell_type": "code",
   "execution_count": 2,
   "id": "afb682f1",
   "metadata": {},
   "outputs": [],
   "source": [
    "df = pd.read_csv('nutrition_repos_clean_stemmed_lemmatize.csv')"
   ]
  },
  {
   "cell_type": "code",
   "execution_count": 3,
   "id": "b2ee56b2",
   "metadata": {},
   "outputs": [
    {
     "data": {
      "text/html": [
       "<div>\n",
       "<style scoped>\n",
       "    .dataframe tbody tr th:only-of-type {\n",
       "        vertical-align: middle;\n",
       "    }\n",
       "\n",
       "    .dataframe tbody tr th {\n",
       "        vertical-align: top;\n",
       "    }\n",
       "\n",
       "    .dataframe thead th {\n",
       "        text-align: right;\n",
       "    }\n",
       "</style>\n",
       "<table border=\"1\" class=\"dataframe\">\n",
       "  <thead>\n",
       "    <tr style=\"text-align: right;\">\n",
       "      <th></th>\n",
       "      <th>language</th>\n",
       "      <th>readme_contents</th>\n",
       "      <th>clean</th>\n",
       "      <th>clean_stemmed</th>\n",
       "      <th>clean_lemmatized</th>\n",
       "    </tr>\n",
       "  </thead>\n",
       "  <tbody>\n",
       "    <tr>\n",
       "      <th>0</th>\n",
       "      <td>Java</td>\n",
       "      <td># Nutrition\\n\\nNutrition is a highly configura...</td>\n",
       "      <td>nutrition\\n\\nnutrition is a highly configurabl...</td>\n",
       "      <td>nutrit nutrit highli configur mod enabl creati...</td>\n",
       "      <td>nutrition nutrition highly configurable mod en...</td>\n",
       "    </tr>\n",
       "    <tr>\n",
       "      <th>1</th>\n",
       "      <td>Java</td>\n",
       "      <td>\\n## 营养大师\\n\\n一款基于数据分析的智能饮食推荐APP  \\n\\n仓库地址: htt...</td>\n",
       "      <td>app \\n\\n httpsgithubcomwangtianruinutritionmas...</td>\n",
       "      <td>app httpsgithubcomwangtianruinutritionmast api...</td>\n",
       "      <td>app httpsgithubcomwangtianruinutritionmaster a...</td>\n",
       "    </tr>\n",
       "    <tr>\n",
       "      <th>2</th>\n",
       "      <td>JavaScript</td>\n",
       "      <td>Nutrition Label jQuery Plugin by Nutritionix\\r...</td>\n",
       "      <td>nutrition label jquery plugin by nutritionix\\r...</td>\n",
       "      <td>nutrit label jqueri plugin nutritionix npmhttp...</td>\n",
       "      <td>nutrition label jquery plugin nutritionix npmh...</td>\n",
       "    </tr>\n",
       "    <tr>\n",
       "      <th>3</th>\n",
       "      <td>other</td>\n",
       "      <td>\\n# off-nutrition-table-extractor\\nThis reposi...</td>\n",
       "      <td>offnutritiontableextractor\\nthis repository is...</td>\n",
       "      <td>offnutritiontableextractor thi repositori accu...</td>\n",
       "      <td>offnutritiontableextractor repository accumula...</td>\n",
       "    </tr>\n",
       "    <tr>\n",
       "      <th>4</th>\n",
       "      <td>Python</td>\n",
       "      <td>﻿# wger\\n&lt;img src=\"https://raw.githubuserconte...</td>\n",
       "      <td>wger\\nimg srchttpsrawgithubusercontentcomwgerp...</td>\n",
       "      <td>wger img srchttpsrawgithubusercontentcomwgerpr...</td>\n",
       "      <td>wger img srchttpsrawgithubusercontentcomwgerpr...</td>\n",
       "    </tr>\n",
       "  </tbody>\n",
       "</table>\n",
       "</div>"
      ],
      "text/plain": [
       "     language                                    readme_contents  \\\n",
       "0        Java  # Nutrition\\n\\nNutrition is a highly configura...   \n",
       "1        Java  \\n## 营养大师\\n\\n一款基于数据分析的智能饮食推荐APP  \\n\\n仓库地址: htt...   \n",
       "2  JavaScript  Nutrition Label jQuery Plugin by Nutritionix\\r...   \n",
       "3       other  \\n# off-nutrition-table-extractor\\nThis reposi...   \n",
       "4      Python  ﻿# wger\\n<img src=\"https://raw.githubuserconte...   \n",
       "\n",
       "                                               clean  \\\n",
       "0  nutrition\\n\\nnutrition is a highly configurabl...   \n",
       "1  app \\n\\n httpsgithubcomwangtianruinutritionmas...   \n",
       "2  nutrition label jquery plugin by nutritionix\\r...   \n",
       "3  offnutritiontableextractor\\nthis repository is...   \n",
       "4  wger\\nimg srchttpsrawgithubusercontentcomwgerp...   \n",
       "\n",
       "                                       clean_stemmed  \\\n",
       "0  nutrit nutrit highli configur mod enabl creati...   \n",
       "1  app httpsgithubcomwangtianruinutritionmast api...   \n",
       "2  nutrit label jqueri plugin nutritionix npmhttp...   \n",
       "3  offnutritiontableextractor thi repositori accu...   \n",
       "4  wger img srchttpsrawgithubusercontentcomwgerpr...   \n",
       "\n",
       "                                    clean_lemmatized  \n",
       "0  nutrition nutrition highly configurable mod en...  \n",
       "1  app httpsgithubcomwangtianruinutritionmaster a...  \n",
       "2  nutrition label jquery plugin nutritionix npmh...  \n",
       "3  offnutritiontableextractor repository accumula...  \n",
       "4  wger img srchttpsrawgithubusercontentcomwgerpr...  "
      ]
     },
     "execution_count": 3,
     "metadata": {},
     "output_type": "execute_result"
    }
   ],
   "source": [
    "df.head()"
   ]
  },
  {
   "cell_type": "code",
   "execution_count": 4,
   "id": "65356bfb",
   "metadata": {},
   "outputs": [
    {
     "data": {
      "text/plain": [
       "language            0\n",
       "readme_contents     0\n",
       "clean               0\n",
       "clean_stemmed       0\n",
       "clean_lemmatized    0\n",
       "dtype: int64"
      ]
     },
     "execution_count": 4,
     "metadata": {},
     "output_type": "execute_result"
    }
   ],
   "source": [
    "df.isnull().sum()"
   ]
  },
  {
   "cell_type": "code",
   "execution_count": 5,
   "id": "0581b618",
   "metadata": {},
   "outputs": [
    {
     "data": {
      "text/plain": [
       "other         52\n",
       "JavaScript    34\n",
       "Python        19\n",
       "Java          12\n",
       "Name: language, dtype: int64"
      ]
     },
     "execution_count": 5,
     "metadata": {},
     "output_type": "execute_result"
    }
   ],
   "source": [
    "df.language.value_counts()"
   ]
  },
  {
   "cell_type": "code",
   "execution_count": null,
   "id": "809acbf9",
   "metadata": {},
   "outputs": [],
   "source": []
  },
  {
   "cell_type": "code",
   "execution_count": null,
   "id": "ccda7a94",
   "metadata": {},
   "outputs": [],
   "source": []
  },
  {
   "cell_type": "code",
   "execution_count": null,
   "id": "88c7d687",
   "metadata": {},
   "outputs": [],
   "source": []
  },
  {
   "cell_type": "code",
   "execution_count": null,
   "id": "6711d992",
   "metadata": {},
   "outputs": [],
   "source": []
  },
  {
   "cell_type": "code",
   "execution_count": 6,
   "id": "239de76a",
   "metadata": {},
   "outputs": [],
   "source": [
    "def get_readme_length(string):\n",
    "    length = len(string.split())\n",
    "    return length\n",
    " "
   ]
  },
  {
   "cell_type": "code",
   "execution_count": 7,
   "id": "5ef71748",
   "metadata": {},
   "outputs": [],
   "source": [
    "df[\"cleaned_stemmed_length\"] = df[\"clean_stemmed\"].apply(get_readme_length)\n",
    "df[\"cleaned_lemmed_length\"] = df[\"clean_lemmatized\"].apply(get_readme_length)\n",
    "\n",
    "  "
   ]
  },
  {
   "cell_type": "markdown",
   "id": "d68ec517",
   "metadata": {},
   "source": [
    "c_words = ' '.join(df[df.language == \"C\"].clean_stemmed)\n",
    "ch_words = ' '.join(df[df.language == \"C#\"].clean_stemmed)\n",
    "css_words= ' '.join(df[df.language == \"CSS\"].clean_stemmed)\n",
    "dart_words = ' '.join(df[df.language == \"Dart\"].clean_stemmed)\n",
    "elixir_words =' '.join(df[df.language == \"Elixir\"].clean_stemmed)\n",
    "go_words  = ' '.join(df[df.language == \"Go\"].clean_stemmed)\n",
    "html_words = ' '.join(df[df.language == \"HTML\"].clean_stemmed)\n",
    "java_words = ' '.join(df[df.language == \"Java\"].clean_stemmed)\n",
    "javascript_words = ' '.join(df[df.language == \"JavaScript\"].clean_stemmed)\n",
    "jnbook_words = ' '.join(df[df.language == \"Kotlin\"].clean_stemmed)\n",
    "kotlin_words = ' '.join(df[df.language == \"C\"].clean_stemmed)\n",
    "makefile_words = ' '.join(df[df.language == \"Makefile\"].clean_stemmed)\n",
    "obj_c_words= ' '.join(df[df.language == \"Objective-C\"].clean_stemmed)\n",
    "php_words = ' '.join(df[df.language == \"PHP\"].clean_stemmed)\n",
    "perl_words= ' '.join(df[df.language == \"Perl\"].clean_stemmed)\n",
    "prolog_words =' '.join(df[df.language == \"Prolog\"].clean_stemmed)\n",
    "python_words= ' '.join(df[df.language == \"Python\"].clean_stemmed)\n",
    "r_words = ' '.join(df[df.language == \"R\"].clean_stemmed)\n",
    "ruby_words = ' '.join(df[df.language == \"Ruby\"].clean_stemmed)\n",
    "shell_words =' '.join(df[df.language == \"Shell\"].clean_stemmed)\n",
    "sata_words = ' '.join(df[df.language == \"Stata\"].clean_stemmed)\n",
    "swift_words = ' '.join(df[df.language == \"Swift\"].clean_stemmed)\n",
    "tex_words= ' '.join(df[df.language == \"TeX\"].clean_stemmed)\n",
    "typescript_words =' '.join(df[df.language == \"TypeScript\"].clean_stemmed)\n",
    "vue_words= ' '.join(df[df.language == \"Vue\"].clean_stemmed)"
   ]
  },
  {
   "cell_type": "markdown",
   "id": "f360169e",
   "metadata": {},
   "source": [
    "c_freq = pd.Series(c_words.split()).value_counts()\n",
    "ch_freq = pd.Series(ch_words.split()).value_counts()\n",
    "css_freq= pd.Series(css_words.split()).value_counts()\n",
    "dart_freq = pd.Series(dart_words.split()).value_counts()\n",
    "elixir_freq =pd.Series(elixir_words.split()).value_counts()\n",
    "go_freq  = pd.Series(go_words.split()).value_counts()\n",
    "html_freq = pd.Series(html_words.split()).value_counts()\n",
    "java_freq = pd.Series(java_words.split()).value_counts()\n",
    "javascript_freq = pd.Series(javascript_words.split()).value_counts()\n",
    "jnbook_freq = pd.Series(jnbook_words.split()).value_counts()\n",
    "kotlin_freq = pd.Series(kotlin_words.split()).value_counts()\n",
    "makefile_freq = pd.Series(makefile_words.split()).value_counts()\n",
    "obj_c_freq= pd.Series(obj_c_words.split()).value_counts()\n",
    "php_freq = pd.Series(php_words.split()).value_counts()\n",
    "perl_freq= pd.Series(perl_words.split()).value_counts()\n",
    "prolog_freq =pd.Series(prolog_words.split()).value_counts()\n",
    "python_freq= pd.Series(python_words.split()).value_counts()\n",
    "r_freq = pd.Series(r_words.split()).value_counts()\n",
    "ruby_freq = pd.Series(ruby_words.split()).value_counts()\n",
    "shell_freq =pd.Series(shell_words.split()).value_counts()\n",
    "sata_freq = pd.Series(sata_words.split()).value_counts()\n",
    "swift_freq = pd.Series(swift_words.split()).value_counts()\n",
    "tex_freq= pd.Series(tex_words.split()).value_counts()\n",
    "typescript_freq =pd.Series(typescript_words.split()).value_counts()\n",
    "vue_freq= pd.Series(vue_words.split()).value_counts()"
   ]
  },
  {
   "cell_type": "markdown",
   "id": "2cbdf3e0",
   "metadata": {},
   "source": [
    "c_freq,ch_freq, css_freq ,dart_freq  ,elixir_freq  ,go_freq   ,html_freq  ,java_freq  ,javascript_freq  ,jnbook_freq  ,kotlin_freq  ,makefile_freq  ,obj_c_freq ,php_freq  ,perl_freq ,prolog_freq  ,python_freq ,r_freq  ,ruby_freq  ,shell_freq  ,sata_freq  ,swift_freq  ,tex_freq ,typescript_freq  ,vue_freq "
   ]
  },
  {
   "cell_type": "markdown",
   "id": "64bf3fae",
   "metadata": {},
   "source": [
    "all_freq = pd.concat([c_freq,ch_freq, css_freq ,dart_freq  ,elixir_freq  ,go_freq   ,html_freq  ,java_freq,\n",
    "                      javascript_freq  ,jnbook_freq  ,kotlin_freq  ,makefile_freq  ,obj_c_freq ,php_freq, \n",
    "                      perl_freq ,prolog_freq  ,python_freq ,r_freq  ,ruby_freq  ,shell_freq  ,sata_freq, \n",
    "                      swift_freq  ,tex_freq ,typescript_freq  ,vue_freq], axis=1).fillna(0).astype('int')"
   ]
  },
  {
   "cell_type": "markdown",
   "id": "4947a8dd",
   "metadata": {},
   "source": [
    "all_freq.columns = ['c_freq','ch_freq', 'css_freq' ,'dart_freq'  ,'elixir_freq'  ,'go_freq'   ,'html_freq'  ,'java_freq',\n",
    "                      'javascript_freq'  ,'jnbook_freq'  ,'kotlin_freq'  ,'makefile_freq'  ,'obj_c_freq' ,'php_freq', \n",
    "                      'perl_freq' ,'prolog_freq'  ,'python_freq' ,'r_freq'  ,'ruby_freq'  ,'shell_freq'  ,'sata_freq', \n",
    "                      'swift_freq'  ,'tex_freq' ,'typescript_freq'  ,'vue_freq']"
   ]
  },
  {
   "cell_type": "markdown",
   "id": "8e3a5db5",
   "metadata": {},
   "source": [
    "all_freq.head()"
   ]
  },
  {
   "cell_type": "markdown",
   "id": "2fb0e07c",
   "metadata": {},
   "source": [
    "all_freq.sort_values()"
   ]
  },
  {
   "cell_type": "code",
   "execution_count": 9,
   "id": "4f5d5642",
   "metadata": {},
   "outputs": [
    {
     "data": {
      "text/html": [
       "<div>\n",
       "<style scoped>\n",
       "    .dataframe tbody tr th:only-of-type {\n",
       "        vertical-align: middle;\n",
       "    }\n",
       "\n",
       "    .dataframe tbody tr th {\n",
       "        vertical-align: top;\n",
       "    }\n",
       "\n",
       "    .dataframe thead th {\n",
       "        text-align: right;\n",
       "    }\n",
       "</style>\n",
       "<table border=\"1\" class=\"dataframe\">\n",
       "  <thead>\n",
       "    <tr style=\"text-align: right;\">\n",
       "      <th></th>\n",
       "      <th>mean</th>\n",
       "      <th>median</th>\n",
       "    </tr>\n",
       "    <tr>\n",
       "      <th>language</th>\n",
       "      <th></th>\n",
       "      <th></th>\n",
       "    </tr>\n",
       "  </thead>\n",
       "  <tbody>\n",
       "    <tr>\n",
       "      <th>Java</th>\n",
       "      <td>211.333333</td>\n",
       "      <td>115.0</td>\n",
       "    </tr>\n",
       "    <tr>\n",
       "      <th>JavaScript</th>\n",
       "      <td>241.882353</td>\n",
       "      <td>132.0</td>\n",
       "    </tr>\n",
       "    <tr>\n",
       "      <th>Python</th>\n",
       "      <td>404.368421</td>\n",
       "      <td>255.0</td>\n",
       "    </tr>\n",
       "    <tr>\n",
       "      <th>other</th>\n",
       "      <td>245.000000</td>\n",
       "      <td>160.5</td>\n",
       "    </tr>\n",
       "  </tbody>\n",
       "</table>\n",
       "</div>"
      ],
      "text/plain": [
       "                  mean  median\n",
       "language                      \n",
       "Java        211.333333   115.0\n",
       "JavaScript  241.882353   132.0\n",
       "Python      404.368421   255.0\n",
       "other       245.000000   160.5"
      ]
     },
     "execution_count": 9,
     "metadata": {},
     "output_type": "execute_result"
    }
   ],
   "source": [
    "df.groupby(\"language\")[\"cleaned_stemmed_length\"].agg([\"mean\", \"median\"])\n",
    " "
   ]
  },
  {
   "cell_type": "code",
   "execution_count": 10,
   "id": "da79a5b6",
   "metadata": {},
   "outputs": [
    {
     "data": {
      "text/html": [
       "<div>\n",
       "<style scoped>\n",
       "    .dataframe tbody tr th:only-of-type {\n",
       "        vertical-align: middle;\n",
       "    }\n",
       "\n",
       "    .dataframe tbody tr th {\n",
       "        vertical-align: top;\n",
       "    }\n",
       "\n",
       "    .dataframe thead th {\n",
       "        text-align: right;\n",
       "    }\n",
       "</style>\n",
       "<table border=\"1\" class=\"dataframe\">\n",
       "  <thead>\n",
       "    <tr style=\"text-align: right;\">\n",
       "      <th></th>\n",
       "      <th>mean</th>\n",
       "    </tr>\n",
       "    <tr>\n",
       "      <th>language</th>\n",
       "      <th></th>\n",
       "    </tr>\n",
       "  </thead>\n",
       "  <tbody>\n",
       "    <tr>\n",
       "      <th>Java</th>\n",
       "      <td>207.916667</td>\n",
       "    </tr>\n",
       "    <tr>\n",
       "      <th>JavaScript</th>\n",
       "      <td>235.558824</td>\n",
       "    </tr>\n",
       "    <tr>\n",
       "      <th>Python</th>\n",
       "      <td>398.157895</td>\n",
       "    </tr>\n",
       "    <tr>\n",
       "      <th>other</th>\n",
       "      <td>240.884615</td>\n",
       "    </tr>\n",
       "  </tbody>\n",
       "</table>\n",
       "</div>"
      ],
      "text/plain": [
       "                  mean\n",
       "language              \n",
       "Java        207.916667\n",
       "JavaScript  235.558824\n",
       "Python      398.157895\n",
       "other       240.884615"
      ]
     },
     "execution_count": 10,
     "metadata": {},
     "output_type": "execute_result"
    }
   ],
   "source": [
    "lem_df = df.groupby(\"language\")[\"cleaned_lemmed_length\"].agg([\"mean\"])\n",
    "lem_df"
   ]
  },
  {
   "cell_type": "code",
   "execution_count": 11,
   "id": "2a353942",
   "metadata": {},
   "outputs": [],
   "source": [
    "lem_df_desc = lem_df.sort_values('mean', ascending=True)"
   ]
  },
  {
   "cell_type": "code",
   "execution_count": 12,
   "id": "2c9320bb",
   "metadata": {},
   "outputs": [
    {
     "data": {
      "text/plain": [
       "Text(0, 0.5, 'Average Length of READme')"
      ]
     },
     "execution_count": 12,
     "metadata": {},
     "output_type": "execute_result"
    },
    {
     "data": {
      "image/png": "[encoded data removed]",
      "text/plain": [
       "<Figure size 1152x720 with 1 Axes>"
      ]
     },
     "metadata": {
      "needs_background": "light"
     },
     "output_type": "display_data"
    }
   ],
   "source": [
    "ax = lem_df_desc.plot(kind=\"barh\")\n",
    "# Get a Matplotlib figure from the axes object for formatting purposes\n",
    "fig = ax.get_figure()\n",
    "# Change the plot dimensions (width, height)\n",
    "fig.set_size_inches(16, 10)\n",
    "# Change the axes labels\n",
    "ax.set_xlabel(\"Programming Language \")\n",
    "ax.set_ylabel(\"Average Length of READme\")\n"
   ]
  },
  {
   "cell_type": "code",
   "execution_count": 13,
   "id": "37d02ba8",
   "metadata": {},
   "outputs": [],
   "source": [
    "stem_df = df.groupby(\"language\")[\"cleaned_stemmed_length\"].agg([\"mean\"])\n"
   ]
  },
  {
   "cell_type": "code",
   "execution_count": 14,
   "id": "97942f80",
   "metadata": {},
   "outputs": [],
   "source": [
    "stem_df_desc = stem_df.sort_values('mean', ascending=True)"
   ]
  },
  {
   "cell_type": "code",
   "execution_count": 15,
   "id": "c6c16e98",
   "metadata": {},
   "outputs": [
    {
     "data": {
      "text/plain": [
       "Text(0, 0.5, 'Average Length of READme')"
      ]
     },
     "execution_count": 15,
     "metadata": {},
     "output_type": "execute_result"
    },
    {
     "data": {
      "image/png": "[encoded data removed]",
      "text/plain": [
       "<Figure size 1152x720 with 1 Axes>"
      ]
     },
     "metadata": {
      "needs_background": "light"
     },
     "output_type": "display_data"
    }
   ],
   "source": [
    "ax = stem_df_desc.plot(kind=\"barh\")\n",
    "# Get a Matplotlib figure from the axes object for formatting purposes\n",
    "fig = ax.get_figure()\n",
    "# Change the plot dimensions (width, height)\n",
    "fig.set_size_inches(16, 10)\n",
    "# Change the axes labels\n",
    "ax.set_xlabel(\"Programming Language \")\n",
    "ax.set_ylabel(\"Average Length of READme\")\n"
   ]
  },
  {
   "cell_type": "code",
   "execution_count": null,
   "id": "ee052005",
   "metadata": {},
   "outputs": [],
   "source": [
    " "
   ]
  },
  {
   "cell_type": "markdown",
   "id": "5591cf83",
   "metadata": {},
   "source": [
    "## Comparing the means\n",
    "\n",
    "### H0 The mean of the Readme length is the same for all  Programming Language \n",
    "### H1 The mean of theReadme length is different for all Programming Language "
   ]
  },
  {
   "cell_type": "code",
   "execution_count": 16,
   "id": "8eaaea59",
   "metadata": {},
   "outputs": [
    {
     "ename": "TypeError",
     "evalue": "at least two inputs are required; got 0.",
     "output_type": "error",
     "traceback": [
      "\u001b[0;31m---------------------------------------------------------------------------\u001b[0m",
      "\u001b[0;31mTypeError\u001b[0m                                 Traceback (most recent call last)",
      "\u001b[0;32m/var/folders/tj/48z6q6695h9g3h9jm293blkm0000gn/T/ipykernel_50508/1293522752.py\u001b[0m in \u001b[0;36m<module>\u001b[0;34m\u001b[0m\n\u001b[0;32m----> 1\u001b[0;31m \u001b[0mstats\u001b[0m\u001b[0;34m.\u001b[0m\u001b[0mf_oneway\u001b[0m\u001b[0;34m(\u001b[0m \u001b[0;34m)\u001b[0m\u001b[0;34m\u001b[0m\u001b[0;34m\u001b[0m\u001b[0m\n\u001b[0m",
      "\u001b[0;32m~/opt/anaconda3/lib/python3.9/site-packages/scipy/stats/stats.py\u001b[0m in \u001b[0;36mf_oneway\u001b[0;34m(axis, *args)\u001b[0m\n\u001b[1;32m   3602\u001b[0m     \"\"\"\n\u001b[1;32m   3603\u001b[0m     \u001b[0;32mif\u001b[0m \u001b[0mlen\u001b[0m\u001b[0;34m(\u001b[0m\u001b[0margs\u001b[0m\u001b[0;34m)\u001b[0m \u001b[0;34m<\u001b[0m \u001b[0;36m2\u001b[0m\u001b[0;34m:\u001b[0m\u001b[0;34m\u001b[0m\u001b[0;34m\u001b[0m\u001b[0m\n\u001b[0;32m-> 3604\u001b[0;31m         \u001b[0;32mraise\u001b[0m \u001b[0mTypeError\u001b[0m\u001b[0;34m(\u001b[0m\u001b[0;34mf'at least two inputs are required; got {len(args)}.'\u001b[0m\u001b[0;34m)\u001b[0m\u001b[0;34m\u001b[0m\u001b[0;34m\u001b[0m\u001b[0m\n\u001b[0m\u001b[1;32m   3605\u001b[0m \u001b[0;34m\u001b[0m\u001b[0m\n\u001b[1;32m   3606\u001b[0m     \u001b[0margs\u001b[0m \u001b[0;34m=\u001b[0m \u001b[0;34m[\u001b[0m\u001b[0mnp\u001b[0m\u001b[0;34m.\u001b[0m\u001b[0masarray\u001b[0m\u001b[0;34m(\u001b[0m\u001b[0marg\u001b[0m\u001b[0;34m,\u001b[0m \u001b[0mdtype\u001b[0m\u001b[0;34m=\u001b[0m\u001b[0mfloat\u001b[0m\u001b[0;34m)\u001b[0m \u001b[0;32mfor\u001b[0m \u001b[0marg\u001b[0m \u001b[0;32min\u001b[0m \u001b[0margs\u001b[0m\u001b[0;34m]\u001b[0m\u001b[0;34m\u001b[0m\u001b[0;34m\u001b[0m\u001b[0m\n",
      "\u001b[0;31mTypeError\u001b[0m: at least two inputs are required; got 0."
     ]
    }
   ],
   "source": [
    "stats.f_oneway( )"
   ]
  },
  {
   "cell_type": "markdown",
   "id": "816951d4",
   "metadata": {},
   "source": [
    "## Modeling \n",
    "- decision Tree"
   ]
  },
  {
   "cell_type": "code",
   "execution_count": 17,
   "id": "38a19ceb",
   "metadata": {},
   "outputs": [],
   "source": [
    "from split_get_scale import SplitGetScale\n",
    "from sklearn.tree import DecisionTreeClassifier\n",
    "from sklearn import tree\n",
    "from sklearn import metrics"
   ]
  },
  {
   "cell_type": "code",
   "execution_count": 18,
   "id": "7064afae",
   "metadata": {},
   "outputs": [],
   "source": [
    "sgs = SplitGetScale()\n",
    "train, test = sgs.split(df)"
   ]
  },
  {
   "cell_type": "code",
   "execution_count": 19,
   "id": "f1ddbff3",
   "metadata": {},
   "outputs": [],
   "source": [
    "(X_train_stemmed, y_train_stemmed), (X_test_stemmed, y_test_stemmed) = sgs.get_Xy(train, test, cols_train=\"clean_stemmed\")\n",
    "(X_train_lemmed, y_train_lemmed), (X_test_lemmed, y_test_lemmed) = sgs.get_Xy(train, test, cols_train=\"clean_lemmatized\")"
   ]
  },
  {
   "cell_type": "code",
   "execution_count": 20,
   "id": "3cbea725",
   "metadata": {},
   "outputs": [
    {
     "data": {
      "text/plain": [
       "0.4444444444444444"
      ]
     },
     "execution_count": 20,
     "metadata": {},
     "output_type": "execute_result"
    }
   ],
   "source": [
    "# create baseline from mode of language\n",
    "baseline = df.language == 'other'\n",
    "baseline.mean()"
   ]
  },
  {
   "cell_type": "code",
   "execution_count": 35,
   "id": "3eeef49c",
   "metadata": {},
   "outputs": [
    {
     "data": {
      "text/plain": [
       "DecisionTreeClassifier(criterion='entropy', max_depth=3, random_state=123)"
      ]
     },
     "execution_count": 35,
     "metadata": {},
     "output_type": "execute_result"
    }
   ],
   "source": [
    "dTree_stemmed = DecisionTreeClassifier(criterion = 'entropy', random_state=123, max_depth=3)\n",
    "dTree_stemmed.fit(X_train_stemmed, y_train_stemmed)"
   ]
  },
  {
   "cell_type": "code",
   "execution_count": 36,
   "id": "fe5ff844",
   "metadata": {},
   "outputs": [
    {
     "name": "stdout",
     "output_type": "stream",
     "text": [
      "Accuracy on training set :  0.6021505376344086\n"
     ]
    }
   ],
   "source": [
    "print(\"Accuracy on training set : \",dTree_stemmed.score(X_train_stemmed, y_train_stemmed))"
   ]
  },
  {
   "cell_type": "code",
   "execution_count": 37,
   "id": "e364696c",
   "metadata": {},
   "outputs": [
    {
     "data": {
      "text/plain": [
       "DecisionTreeClassifier(criterion='entropy', max_depth=3, random_state=123)"
      ]
     },
     "execution_count": 37,
     "metadata": {},
     "output_type": "execute_result"
    }
   ],
   "source": [
    "dTree_lemmed = DecisionTreeClassifier(criterion = 'entropy', random_state=123, max_depth=3)\n",
    "dTree_lemmed.fit(X_train_lemmed, y_train_lemmed)"
   ]
  },
  {
   "cell_type": "code",
   "execution_count": 23,
   "id": "bf8ec949",
   "metadata": {},
   "outputs": [
    {
     "data": {
      "text/plain": [
       "DecisionTreeClassifier(criterion='entropy', max_depth=3, random_state=123)"
      ]
     },
     "execution_count": 23,
     "metadata": {},
     "output_type": "execute_result"
    }
   ],
   "source": [
    "#dTree.fit(X_train_lemmed, y_train_lemmed)"
   ]
  },
  {
   "cell_type": "code",
   "execution_count": 38,
   "id": "9092231a",
   "metadata": {},
   "outputs": [
    {
     "name": "stdout",
     "output_type": "stream",
     "text": [
      "Accuracy on training set :  0.6881720430107527\n"
     ]
    }
   ],
   "source": [
    "print(\"Accuracy on training set : \",dTree_lemmed.score(X_train_lemmed, y_train_lemmed))"
   ]
  },
  {
   "cell_type": "code",
   "execution_count": 25,
   "id": "76746417",
   "metadata": {},
   "outputs": [],
   "source": [
    "from sklearn.model_selection import GridSearchCV"
   ]
  },
  {
   "cell_type": "code",
   "execution_count": 26,
   "id": "1821d94e",
   "metadata": {},
   "outputs": [
    {
     "data": {
      "text/plain": [
       "DecisionTreeClassifier(max_depth=1, max_leaf_nodes=2,\n",
       "                       min_impurity_decrease=0.001, random_state=123)"
      ]
     },
     "execution_count": 26,
     "metadata": {},
     "output_type": "execute_result"
    }
   ],
   "source": [
    "# Choose the type of classifier. \n",
    "estimator = DecisionTreeClassifier(random_state=123)\n",
    "\n",
    "# Grid of parameters to choose from\n",
    "## add from article\n",
    "parameters = {'max_depth': np.arange(1,5), \n",
    "              'min_samples_leaf': [1, 2, 5, 7, 10,15,20],\n",
    "              'max_leaf_nodes' : [2, 3, 5, 7],\n",
    "              'min_impurity_decrease': [0.001,0.01,0.1]\n",
    "             }\n",
    "\n",
    "# Type of scoring used to compare parameter combinations\n",
    "acc_scorer = metrics.make_scorer(metrics.recall_score)\n",
    "\n",
    "# Run the grid search\n",
    "grid_obj = GridSearchCV(estimator, parameters, scoring=acc_scorer,cv=5)\n",
    "grid_obj = grid_obj.fit(X_train_stemmed, y_train_stemmed)\n",
    "\n",
    "# Set the clf to the best combination of parameters\n",
    "estimator = grid_obj.best_estimator_\n",
    "\n",
    "# Fit the best algorithm to the data. \n",
    "estimator.fit(X_train_stemmed, y_train_stemmed)"
   ]
  },
  {
   "cell_type": "code",
   "execution_count": 27,
   "id": "6928248a",
   "metadata": {},
   "outputs": [
    {
     "data": {
      "text/plain": [
       "DecisionTreeClassifier(max_depth=1, max_leaf_nodes=2,\n",
       "                       min_impurity_decrease=0.001, random_state=123)"
      ]
     },
     "execution_count": 27,
     "metadata": {},
     "output_type": "execute_result"
    }
   ],
   "source": [
    "# Choose the type of classifier. \n",
    "estimator = DecisionTreeClassifier(random_state=123)\n",
    "\n",
    "# Grid of parameters to choose from\n",
    "## add from article\n",
    "parameters = {'max_depth': np.arange(1,5), \n",
    "              'min_samples_leaf': [1, 2, 5, 7, 10,15,20],\n",
    "              'max_leaf_nodes' : [2, 3, 5, 7],\n",
    "              'min_impurity_decrease': [0.001,0.01,0.1]\n",
    "             }\n",
    "\n",
    "# Type of scoring used to compare parameter combinations\n",
    "acc_scorer = metrics.make_scorer(metrics.recall_score)\n",
    "\n",
    "# Run the grid search\n",
    "grid_obj = GridSearchCV(estimator, parameters, scoring=acc_scorer,cv=5)\n",
    "grid_obj = grid_obj.fit(X_train_lemmed, y_train_lemmed)\n",
    "\n",
    "# Set the clf to the best combination of parameters\n",
    "estimator = grid_obj.best_estimator_\n",
    "\n",
    "# Fit the best algorithm to the data. \n",
    "estimator.fit(X_train_lemmed, y_train_lemmed)"
   ]
  },
  {
   "cell_type": "code",
   "execution_count": 29,
   "id": "7d2ba77f",
   "metadata": {},
   "outputs": [
    {
     "name": "stdout",
     "output_type": "stream",
     "text": [
      "Accuracy on training set :  0.5053763440860215\n"
     ]
    }
   ],
   "source": [
    "print(\"Accuracy on training set : \",estimator.score(X_train_lemmed, y_train_lemmed))\n"
   ]
  },
  {
   "cell_type": "code",
   "execution_count": 30,
   "id": "ea6a4dc0",
   "metadata": {},
   "outputs": [
    {
     "data": {
      "text/plain": [
       "DecisionTreeClassifier(max_depth=1, max_leaf_nodes=2,\n",
       "                       min_impurity_decrease=0.001, random_state=123)"
      ]
     },
     "execution_count": 30,
     "metadata": {},
     "output_type": "execute_result"
    }
   ],
   "source": [
    "estimator.fit(X_train_lemmed, y_train_lemmed)"
   ]
  },
  {
   "cell_type": "code",
   "execution_count": 31,
   "id": "adf8958f",
   "metadata": {},
   "outputs": [
    {
     "name": "stdout",
     "output_type": "stream",
     "text": [
      "Accuracy on training set :  0.5053763440860215\n"
     ]
    }
   ],
   "source": [
    "print(\"Accuracy on training set : \",estimator.score(X_train_lemmed, y_train_lemmed))\n"
   ]
  },
  {
   "cell_type": "code",
   "execution_count": 39,
   "id": "54188c02",
   "metadata": {},
   "outputs": [
    {
     "name": "stdout",
     "output_type": "stream",
     "text": [
      "Accuracy on testing set :  0.5416666666666666\n"
     ]
    }
   ],
   "source": [
    "print(\"Accuracy on testing set : \",dTree_lemmed.score(X_test_lemmed, y_test_lemmed))"
   ]
  },
  {
   "cell_type": "code",
   "execution_count": 41,
   "id": "15774e2a",
   "metadata": {},
   "outputs": [
    {
     "name": "stdout",
     "output_type": "stream",
     "text": [
      "Accuracy on testing set :  0.3333333333333333\n"
     ]
    }
   ],
   "source": [
    "print(\"Accuracy on testing set : \",dTree_stemmed.score(X_test_stemmed,y_test_stemmed))"
   ]
  },
  {
   "cell_type": "code",
   "execution_count": null,
   "id": "776e6d48",
   "metadata": {},
   "outputs": [],
   "source": []
  }
 ],
 "metadata": {
  "kernelspec": {
   "display_name": "Python 3 (ipykernel)",
   "language": "python",
   "name": "python3"
  },
  "language_info": {
   "codemirror_mode": {
    "name": "ipython",
    "version": 3
   },
   "file_extension": ".py",
   "mimetype": "text/x-python",
   "name": "python",
   "nbconvert_exporter": "python",
   "pygments_lexer": "ipython3",
   "version": "3.9.7"
  }
 },
 "nbformat": 4,
 "nbformat_minor": 5
}
