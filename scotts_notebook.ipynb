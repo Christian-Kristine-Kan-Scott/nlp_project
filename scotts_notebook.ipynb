{
 "cells": [
  {
   "cell_type": "code",
   "execution_count": 74,
   "metadata": {},
   "outputs": [
    {
     "data": {
      "text/html": [
       "<div>\n",
       "<style scoped>\n",
       "    .dataframe tbody tr th:only-of-type {\n",
       "        vertical-align: middle;\n",
       "    }\n",
       "\n",
       "    .dataframe tbody tr th {\n",
       "        vertical-align: top;\n",
       "    }\n",
       "\n",
       "    .dataframe thead th {\n",
       "        text-align: right;\n",
       "    }\n",
       "</style>\n",
       "<table border=\"1\" class=\"dataframe\">\n",
       "  <thead>\n",
       "    <tr style=\"text-align: right;\">\n",
       "      <th></th>\n",
       "      <th>language</th>\n",
       "      <th>readme_contents</th>\n",
       "      <th>clean</th>\n",
       "      <th>clean_stemmed</th>\n",
       "      <th>clean_lemmatized</th>\n",
       "    </tr>\n",
       "  </thead>\n",
       "  <tbody>\n",
       "    <tr>\n",
       "      <th>0</th>\n",
       "      <td>Java</td>\n",
       "      <td># Nutrition\\n\\nNutrition is a highly configura...</td>\n",
       "      <td>nutrition\\n\\nnutrition is a highly configurabl...</td>\n",
       "      <td>nutrit nutrit highli configur mod enabl creati...</td>\n",
       "      <td>nutrition nutrition highly configurable mod en...</td>\n",
       "    </tr>\n",
       "    <tr>\n",
       "      <th>1</th>\n",
       "      <td>Java</td>\n",
       "      <td>\\n## 营养大师\\n\\n一款基于数据分析的智能饮食推荐APP  \\n\\n仓库地址: htt...</td>\n",
       "      <td>app \\n\\n httpsgithubcomwangtianruinutritionmas...</td>\n",
       "      <td>app httpsgithubcomwangtianruinutritionmast api...</td>\n",
       "      <td>app httpsgithubcomwangtianruinutritionmaster a...</td>\n",
       "    </tr>\n",
       "    <tr>\n",
       "      <th>2</th>\n",
       "      <td>JavaScript</td>\n",
       "      <td>Nutrition Label jQuery Plugin by Nutritionix\\r...</td>\n",
       "      <td>nutrition label jquery plugin by nutritionix\\r...</td>\n",
       "      <td>nutrit label jqueri plugin nutritionix npmhttp...</td>\n",
       "      <td>nutrition label jquery plugin nutritionix npmh...</td>\n",
       "    </tr>\n",
       "    <tr>\n",
       "      <th>3</th>\n",
       "      <td>Jupyter Notebook</td>\n",
       "      <td>\\n# off-nutrition-table-extractor\\nThis reposi...</td>\n",
       "      <td>offnutritiontableextractor\\nthis repository is...</td>\n",
       "      <td>offnutritiontableextractor thi repositori accu...</td>\n",
       "      <td>offnutritiontableextractor repository accumula...</td>\n",
       "    </tr>\n",
       "    <tr>\n",
       "      <th>4</th>\n",
       "      <td>Python</td>\n",
       "      <td>﻿# wger\\n&lt;img src=\"https://raw.githubuserconte...</td>\n",
       "      <td>wger\\nimg srchttpsrawgithubusercontentcomwgerp...</td>\n",
       "      <td>wger img srchttpsrawgithubusercontentcomwgerpr...</td>\n",
       "      <td>wger img srchttpsrawgithubusercontentcomwgerpr...</td>\n",
       "    </tr>\n",
       "    <tr>\n",
       "      <th>...</th>\n",
       "      <td>...</td>\n",
       "      <td>...</td>\n",
       "      <td>...</td>\n",
       "      <td>...</td>\n",
       "      <td>...</td>\n",
       "    </tr>\n",
       "    <tr>\n",
       "      <th>112</th>\n",
       "      <td>Ruby</td>\n",
       "      <td>= NutritionLabelPlugin\\nNutrition label genera...</td>\n",
       "      <td>nutritionlabelplugin\\nnutrition label generati...</td>\n",
       "      <td>nutritionlabelplugin nutrit label gener rail 3...</td>\n",
       "      <td>nutritionlabelplugin nutrition label generatio...</td>\n",
       "    </tr>\n",
       "    <tr>\n",
       "      <th>113</th>\n",
       "      <td>HTML</td>\n",
       "      <td># The-Nutrition-Coach\\n\\n## Inspiration\\nGrowi...</td>\n",
       "      <td>thenutritioncoach\\n\\n inspiration\\ngrowing up ...</td>\n",
       "      <td>thenutritioncoach inspir grow might heard term...</td>\n",
       "      <td>thenutritioncoach inspiration growing might he...</td>\n",
       "    </tr>\n",
       "    <tr>\n",
       "      <th>114</th>\n",
       "      <td>Ruby</td>\n",
       "      <td>Here is the basic gist of this application. Th...</td>\n",
       "      <td>here is the basic gist of this application thi...</td>\n",
       "      <td>basic gist thi applic thi test ground build ge...</td>\n",
       "      <td>basic gist application testing ground build ge...</td>\n",
       "    </tr>\n",
       "    <tr>\n",
       "      <th>115</th>\n",
       "      <td>JavaScript</td>\n",
       "      <td># csci-3308-Project-GroupAwesome\\n\\nProject Na...</td>\n",
       "      <td>csci3308projectgroupawesome\\n\\nproject name fe...</td>\n",
       "      <td>csci3308projectgroupawesom project name feedme...</td>\n",
       "      <td>csci3308projectgroupawesome project name feedm...</td>\n",
       "    </tr>\n",
       "    <tr>\n",
       "      <th>116</th>\n",
       "      <td>Java</td>\n",
       "      <td># FANTA</td>\n",
       "      <td>fanta</td>\n",
       "      <td>fanta</td>\n",
       "      <td>fanta</td>\n",
       "    </tr>\n",
       "  </tbody>\n",
       "</table>\n",
       "<p>117 rows × 5 columns</p>\n",
       "</div>"
      ],
      "text/plain": [
       "             language                                    readme_contents  \\\n",
       "0                Java  # Nutrition\\n\\nNutrition is a highly configura...   \n",
       "1                Java  \\n## 营养大师\\n\\n一款基于数据分析的智能饮食推荐APP  \\n\\n仓库地址: htt...   \n",
       "2          JavaScript  Nutrition Label jQuery Plugin by Nutritionix\\r...   \n",
       "3    Jupyter Notebook  \\n# off-nutrition-table-extractor\\nThis reposi...   \n",
       "4              Python  ﻿# wger\\n<img src=\"https://raw.githubuserconte...   \n",
       "..                ...                                                ...   \n",
       "112              Ruby  = NutritionLabelPlugin\\nNutrition label genera...   \n",
       "113              HTML  # The-Nutrition-Coach\\n\\n## Inspiration\\nGrowi...   \n",
       "114              Ruby  Here is the basic gist of this application. Th...   \n",
       "115        JavaScript  # csci-3308-Project-GroupAwesome\\n\\nProject Na...   \n",
       "116              Java                                            # FANTA   \n",
       "\n",
       "                                                 clean  \\\n",
       "0    nutrition\\n\\nnutrition is a highly configurabl...   \n",
       "1    app \\n\\n httpsgithubcomwangtianruinutritionmas...   \n",
       "2    nutrition label jquery plugin by nutritionix\\r...   \n",
       "3    offnutritiontableextractor\\nthis repository is...   \n",
       "4    wger\\nimg srchttpsrawgithubusercontentcomwgerp...   \n",
       "..                                                 ...   \n",
       "112  nutritionlabelplugin\\nnutrition label generati...   \n",
       "113  thenutritioncoach\\n\\n inspiration\\ngrowing up ...   \n",
       "114  here is the basic gist of this application thi...   \n",
       "115  csci3308projectgroupawesome\\n\\nproject name fe...   \n",
       "116                                              fanta   \n",
       "\n",
       "                                         clean_stemmed  \\\n",
       "0    nutrit nutrit highli configur mod enabl creati...   \n",
       "1    app httpsgithubcomwangtianruinutritionmast api...   \n",
       "2    nutrit label jqueri plugin nutritionix npmhttp...   \n",
       "3    offnutritiontableextractor thi repositori accu...   \n",
       "4    wger img srchttpsrawgithubusercontentcomwgerpr...   \n",
       "..                                                 ...   \n",
       "112  nutritionlabelplugin nutrit label gener rail 3...   \n",
       "113  thenutritioncoach inspir grow might heard term...   \n",
       "114  basic gist thi applic thi test ground build ge...   \n",
       "115  csci3308projectgroupawesom project name feedme...   \n",
       "116                                              fanta   \n",
       "\n",
       "                                      clean_lemmatized  \n",
       "0    nutrition nutrition highly configurable mod en...  \n",
       "1    app httpsgithubcomwangtianruinutritionmaster a...  \n",
       "2    nutrition label jquery plugin nutritionix npmh...  \n",
       "3    offnutritiontableextractor repository accumula...  \n",
       "4    wger img srchttpsrawgithubusercontentcomwgerpr...  \n",
       "..                                                 ...  \n",
       "112  nutritionlabelplugin nutrition label generatio...  \n",
       "113  thenutritioncoach inspiration growing might he...  \n",
       "114  basic gist application testing ground build ge...  \n",
       "115  csci3308projectgroupawesome project name feedm...  \n",
       "116                                              fanta  \n",
       "\n",
       "[117 rows x 5 columns]"
      ]
     },
     "execution_count": 74,
     "metadata": {},
     "output_type": "execute_result"
    }
   ],
   "source": [
    "import pandas as pd\n",
    "nut_rep = pd.read_csv(\"nutrition_repos_clean_stemmed_lemmatize.csv\")\n",
    "nut_rep"
   ]
  },
  {
   "cell_type": "code",
   "execution_count": 75,
   "metadata": {},
   "outputs": [
    {
     "data": {
      "text/plain": [
       "language            0\n",
       "readme_contents     0\n",
       "clean               0\n",
       "clean_stemmed       0\n",
       "clean_lemmatized    0\n",
       "dtype: int64"
      ]
     },
     "execution_count": 75,
     "metadata": {},
     "output_type": "execute_result"
    }
   ],
   "source": [
    "nut_rep.isnull().sum()"
   ]
  },
  {
   "cell_type": "code",
   "execution_count": 76,
   "metadata": {},
   "outputs": [
    {
     "data": {
      "text/plain": [
       "117"
      ]
     },
     "execution_count": 76,
     "metadata": {},
     "output_type": "execute_result"
    }
   ],
   "source": [
    "len(nut_rep)"
   ]
  },
  {
   "cell_type": "code",
   "execution_count": 77,
   "metadata": {},
   "outputs": [],
   "source": [
    "# lang_dict = {}\n",
    "# for lang in nut_rep[\"language\"].value_counts().index:\n",
    "#     lang_dict[lang] = len(set(nut_rep[nut_rep[\"language\"] == lang][\"clean_stemmed\"].str.split() for ind in nut_rep[nut_rep[\"language\"] == lang].index)).median()"
   ]
  },
  {
   "cell_type": "code",
   "execution_count": 78,
   "metadata": {},
   "outputs": [],
   "source": [
    "# a = []\n",
    "# for ind in nut_rep[nut_rep[\"language\"] == \"Python\"][\"clean_stemmed\"].str.split().index:\n",
    "#     a.append(len(set(nut_rep[nut_rep[\"language\"] == \"Python\"][\"clean_stemmed\"].str.split()[ind])))"
   ]
  },
  {
   "cell_type": "code",
   "execution_count": 79,
   "metadata": {},
   "outputs": [],
   "source": [
    "# lang_dict = {}\n",
    "# for lang in nut_rep[\"language\"].value_counts().index:\n",
    "#     a = []\n",
    "#     lang_dict[lang] = a\n",
    "#     for ind in nut_rep[nut_rep[\"language\"] == lang][\"clean_stemmed\"].str.split().index:\n",
    "#         lang_dict[lang] = a.append(len(set(nut_rep[nut_rep[\"language\"] == lang][\"clean_stemmed\"].str.split()[ind])))"
   ]
  },
  {
   "cell_type": "code",
   "execution_count": 80,
   "metadata": {},
   "outputs": [],
   "source": [
    "def get_unique_words(string):\n",
    "    num_unique_words = len(set(string.split()))\n",
    "    return num_unique_words"
   ]
  },
  {
   "cell_type": "code",
   "execution_count": 81,
   "metadata": {},
   "outputs": [],
   "source": [
    "nut_rep[\"cleaned_stemmed_unique\"] = nut_rep[\"clean_stemmed\"].apply(get_unique_words)"
   ]
  },
  {
   "cell_type": "code",
   "execution_count": 82,
   "metadata": {},
   "outputs": [],
   "source": [
    "nut_rep[\"cleaned_lemmed_unique\"] = nut_rep[\"clean_lemmatized\"].apply(get_unique_words)"
   ]
  },
  {
   "cell_type": "code",
   "execution_count": 83,
   "metadata": {},
   "outputs": [
    {
     "data": {
      "text/html": [
       "<div>\n",
       "<style scoped>\n",
       "    .dataframe tbody tr th:only-of-type {\n",
       "        vertical-align: middle;\n",
       "    }\n",
       "\n",
       "    .dataframe tbody tr th {\n",
       "        vertical-align: top;\n",
       "    }\n",
       "\n",
       "    .dataframe thead th {\n",
       "        text-align: right;\n",
       "    }\n",
       "</style>\n",
       "<table border=\"1\" class=\"dataframe\">\n",
       "  <thead>\n",
       "    <tr style=\"text-align: right;\">\n",
       "      <th></th>\n",
       "      <th>language</th>\n",
       "      <th>readme_contents</th>\n",
       "      <th>clean</th>\n",
       "      <th>clean_stemmed</th>\n",
       "      <th>clean_lemmatized</th>\n",
       "      <th>cleaned_stemmed_unique</th>\n",
       "      <th>cleaned_lemmed_unique</th>\n",
       "    </tr>\n",
       "  </thead>\n",
       "  <tbody>\n",
       "    <tr>\n",
       "      <th>0</th>\n",
       "      <td>Java</td>\n",
       "      <td># Nutrition\\n\\nNutrition is a highly configura...</td>\n",
       "      <td>nutrition\\n\\nnutrition is a highly configurabl...</td>\n",
       "      <td>nutrit nutrit highli configur mod enabl creati...</td>\n",
       "      <td>nutrition nutrition highly configurable mod en...</td>\n",
       "      <td>226</td>\n",
       "      <td>228</td>\n",
       "    </tr>\n",
       "    <tr>\n",
       "      <th>1</th>\n",
       "      <td>Java</td>\n",
       "      <td>\\n## 营养大师\\n\\n一款基于数据分析的智能饮食推荐APP  \\n\\n仓库地址: htt...</td>\n",
       "      <td>app \\n\\n httpsgithubcomwangtianruinutritionmas...</td>\n",
       "      <td>app httpsgithubcomwangtianruinutritionmast api...</td>\n",
       "      <td>app httpsgithubcomwangtianruinutritionmaster a...</td>\n",
       "      <td>194</td>\n",
       "      <td>195</td>\n",
       "    </tr>\n",
       "    <tr>\n",
       "      <th>2</th>\n",
       "      <td>JavaScript</td>\n",
       "      <td>Nutrition Label jQuery Plugin by Nutritionix\\r...</td>\n",
       "      <td>nutrition label jquery plugin by nutritionix\\r...</td>\n",
       "      <td>nutrit label jqueri plugin nutritionix npmhttp...</td>\n",
       "      <td>nutrition label jquery plugin nutritionix npmh...</td>\n",
       "      <td>54</td>\n",
       "      <td>55</td>\n",
       "    </tr>\n",
       "    <tr>\n",
       "      <th>3</th>\n",
       "      <td>Jupyter Notebook</td>\n",
       "      <td>\\n# off-nutrition-table-extractor\\nThis reposi...</td>\n",
       "      <td>offnutritiontableextractor\\nthis repository is...</td>\n",
       "      <td>offnutritiontableextractor thi repositori accu...</td>\n",
       "      <td>offnutritiontableextractor repository accumula...</td>\n",
       "      <td>205</td>\n",
       "      <td>215</td>\n",
       "    </tr>\n",
       "    <tr>\n",
       "      <th>4</th>\n",
       "      <td>Python</td>\n",
       "      <td>﻿# wger\\n&lt;img src=\"https://raw.githubuserconte...</td>\n",
       "      <td>wger\\nimg srchttpsrawgithubusercontentcomwgerp...</td>\n",
       "      <td>wger img srchttpsrawgithubusercontentcomwgerpr...</td>\n",
       "      <td>wger img srchttpsrawgithubusercontentcomwgerpr...</td>\n",
       "      <td>182</td>\n",
       "      <td>189</td>\n",
       "    </tr>\n",
       "    <tr>\n",
       "      <th>...</th>\n",
       "      <td>...</td>\n",
       "      <td>...</td>\n",
       "      <td>...</td>\n",
       "      <td>...</td>\n",
       "      <td>...</td>\n",
       "      <td>...</td>\n",
       "      <td>...</td>\n",
       "    </tr>\n",
       "    <tr>\n",
       "      <th>112</th>\n",
       "      <td>Ruby</td>\n",
       "      <td>= NutritionLabelPlugin\\nNutrition label genera...</td>\n",
       "      <td>nutritionlabelplugin\\nnutrition label generati...</td>\n",
       "      <td>nutritionlabelplugin nutrit label gener rail 3...</td>\n",
       "      <td>nutritionlabelplugin nutrition label generatio...</td>\n",
       "      <td>102</td>\n",
       "      <td>103</td>\n",
       "    </tr>\n",
       "    <tr>\n",
       "      <th>113</th>\n",
       "      <td>HTML</td>\n",
       "      <td># The-Nutrition-Coach\\n\\n## Inspiration\\nGrowi...</td>\n",
       "      <td>thenutritioncoach\\n\\n inspiration\\ngrowing up ...</td>\n",
       "      <td>thenutritioncoach inspir grow might heard term...</td>\n",
       "      <td>thenutritioncoach inspiration growing might he...</td>\n",
       "      <td>114</td>\n",
       "      <td>116</td>\n",
       "    </tr>\n",
       "    <tr>\n",
       "      <th>114</th>\n",
       "      <td>Ruby</td>\n",
       "      <td>Here is the basic gist of this application. Th...</td>\n",
       "      <td>here is the basic gist of this application thi...</td>\n",
       "      <td>basic gist thi applic thi test ground build ge...</td>\n",
       "      <td>basic gist application testing ground build ge...</td>\n",
       "      <td>64</td>\n",
       "      <td>67</td>\n",
       "    </tr>\n",
       "    <tr>\n",
       "      <th>115</th>\n",
       "      <td>JavaScript</td>\n",
       "      <td># csci-3308-Project-GroupAwesome\\n\\nProject Na...</td>\n",
       "      <td>csci3308projectgroupawesome\\n\\nproject name fe...</td>\n",
       "      <td>csci3308projectgroupawesom project name feedme...</td>\n",
       "      <td>csci3308projectgroupawesome project name feedm...</td>\n",
       "      <td>97</td>\n",
       "      <td>99</td>\n",
       "    </tr>\n",
       "    <tr>\n",
       "      <th>116</th>\n",
       "      <td>Java</td>\n",
       "      <td># FANTA</td>\n",
       "      <td>fanta</td>\n",
       "      <td>fanta</td>\n",
       "      <td>fanta</td>\n",
       "      <td>1</td>\n",
       "      <td>1</td>\n",
       "    </tr>\n",
       "  </tbody>\n",
       "</table>\n",
       "<p>117 rows × 7 columns</p>\n",
       "</div>"
      ],
      "text/plain": [
       "             language                                    readme_contents  \\\n",
       "0                Java  # Nutrition\\n\\nNutrition is a highly configura...   \n",
       "1                Java  \\n## 营养大师\\n\\n一款基于数据分析的智能饮食推荐APP  \\n\\n仓库地址: htt...   \n",
       "2          JavaScript  Nutrition Label jQuery Plugin by Nutritionix\\r...   \n",
       "3    Jupyter Notebook  \\n# off-nutrition-table-extractor\\nThis reposi...   \n",
       "4              Python  ﻿# wger\\n<img src=\"https://raw.githubuserconte...   \n",
       "..                ...                                                ...   \n",
       "112              Ruby  = NutritionLabelPlugin\\nNutrition label genera...   \n",
       "113              HTML  # The-Nutrition-Coach\\n\\n## Inspiration\\nGrowi...   \n",
       "114              Ruby  Here is the basic gist of this application. Th...   \n",
       "115        JavaScript  # csci-3308-Project-GroupAwesome\\n\\nProject Na...   \n",
       "116              Java                                            # FANTA   \n",
       "\n",
       "                                                 clean  \\\n",
       "0    nutrition\\n\\nnutrition is a highly configurabl...   \n",
       "1    app \\n\\n httpsgithubcomwangtianruinutritionmas...   \n",
       "2    nutrition label jquery plugin by nutritionix\\r...   \n",
       "3    offnutritiontableextractor\\nthis repository is...   \n",
       "4    wger\\nimg srchttpsrawgithubusercontentcomwgerp...   \n",
       "..                                                 ...   \n",
       "112  nutritionlabelplugin\\nnutrition label generati...   \n",
       "113  thenutritioncoach\\n\\n inspiration\\ngrowing up ...   \n",
       "114  here is the basic gist of this application thi...   \n",
       "115  csci3308projectgroupawesome\\n\\nproject name fe...   \n",
       "116                                              fanta   \n",
       "\n",
       "                                         clean_stemmed  \\\n",
       "0    nutrit nutrit highli configur mod enabl creati...   \n",
       "1    app httpsgithubcomwangtianruinutritionmast api...   \n",
       "2    nutrit label jqueri plugin nutritionix npmhttp...   \n",
       "3    offnutritiontableextractor thi repositori accu...   \n",
       "4    wger img srchttpsrawgithubusercontentcomwgerpr...   \n",
       "..                                                 ...   \n",
       "112  nutritionlabelplugin nutrit label gener rail 3...   \n",
       "113  thenutritioncoach inspir grow might heard term...   \n",
       "114  basic gist thi applic thi test ground build ge...   \n",
       "115  csci3308projectgroupawesom project name feedme...   \n",
       "116                                              fanta   \n",
       "\n",
       "                                      clean_lemmatized  \\\n",
       "0    nutrition nutrition highly configurable mod en...   \n",
       "1    app httpsgithubcomwangtianruinutritionmaster a...   \n",
       "2    nutrition label jquery plugin nutritionix npmh...   \n",
       "3    offnutritiontableextractor repository accumula...   \n",
       "4    wger img srchttpsrawgithubusercontentcomwgerpr...   \n",
       "..                                                 ...   \n",
       "112  nutritionlabelplugin nutrition label generatio...   \n",
       "113  thenutritioncoach inspiration growing might he...   \n",
       "114  basic gist application testing ground build ge...   \n",
       "115  csci3308projectgroupawesome project name feedm...   \n",
       "116                                              fanta   \n",
       "\n",
       "     cleaned_stemmed_unique  cleaned_lemmed_unique  \n",
       "0                       226                    228  \n",
       "1                       194                    195  \n",
       "2                        54                     55  \n",
       "3                       205                    215  \n",
       "4                       182                    189  \n",
       "..                      ...                    ...  \n",
       "112                     102                    103  \n",
       "113                     114                    116  \n",
       "114                      64                     67  \n",
       "115                      97                     99  \n",
       "116                       1                      1  \n",
       "\n",
       "[117 rows x 7 columns]"
      ]
     },
     "execution_count": 83,
     "metadata": {},
     "output_type": "execute_result"
    }
   ],
   "source": [
    "nut_rep"
   ]
  },
  {
   "cell_type": "code",
   "execution_count": 84,
   "metadata": {},
   "outputs": [],
   "source": [
    "# nut_rep[\"language\"].value_counts()"
   ]
  },
  {
   "cell_type": "code",
   "execution_count": 85,
   "metadata": {},
   "outputs": [],
   "source": [
    "# for ind in nut_rep[\"clean_stemmed\"].str.split().index:\n",
    "#     print(len(set(nut_rep[\"clean_stemmed\"].str.split()[ind])))"
   ]
  },
  {
   "cell_type": "code",
   "execution_count": 86,
   "metadata": {},
   "outputs": [],
   "source": [
    "# nut_rep[\"clean_lemmatized\"].str.split()"
   ]
  },
  {
   "cell_type": "code",
   "execution_count": 87,
   "metadata": {},
   "outputs": [],
   "source": [
    "# nut_rep[\"clean_stemmed\"].str.split()"
   ]
  },
  {
   "cell_type": "markdown",
   "metadata": {},
   "source": [
    "## ADD Split Data Here"
   ]
  },
  {
   "cell_type": "code",
   "execution_count": null,
   "metadata": {},
   "outputs": [],
   "source": []
  },
  {
   "cell_type": "markdown",
   "metadata": {},
   "source": [
    "### Explore Question 3: Does the length of the README vary by programming language?"
   ]
  },
  {
   "cell_type": "code",
   "execution_count": 88,
   "metadata": {},
   "outputs": [],
   "source": [
    "# def get_readme_length(string):\n",
    "#     length = len(string.split())\n",
    "#     return length\n",
    "\n",
    "# nut_rep[\"cleaned_stemmed_length\"] = nut_rep[\"clean_stemmed\"].apply(get_readme_length)\n",
    "# nut_rep[\"cleaned_lemmed_length\"] = nut_rep[\"clean_lemmatized\"].apply(get_readme_length)"
   ]
  },
  {
   "cell_type": "markdown",
   "metadata": {},
   "source": [
    "### Explore Questions 4: Do different programming languages use a different number of unique words?"
   ]
  },
  {
   "cell_type": "code",
   "execution_count": 89,
   "metadata": {},
   "outputs": [],
   "source": [
    "lang_mean_unqiue_stemmed = nut_rep.groupby(\"language\")[\"cleaned_stemmed_unique\"].agg([\"mean\"])"
   ]
  },
  {
   "cell_type": "code",
   "execution_count": 90,
   "metadata": {},
   "outputs": [],
   "source": [
    "lang_mean_unique_lemma = nut_rep.groupby(\"language\")[\"cleaned_lemmed_unique\"].agg([\"mean\"])"
   ]
  },
  {
   "cell_type": "markdown",
   "metadata": {},
   "source": [
    "### Viz for Stemmed Unique Words"
   ]
  },
  {
   "cell_type": "code",
   "execution_count": 91,
   "metadata": {},
   "outputs": [
    {
     "data": {
      "text/plain": [
       "<AxesSubplot:xlabel='language', ylabel='mean'>"
      ]
     },
     "execution_count": 91,
     "metadata": {},
     "output_type": "execute_result"
    },
    {
     "data": {
      "image/png": "[encoded data removed]",
      "text/plain": [
       "<Figure size 1080x720 with 1 Axes>"
      ]
     },
     "metadata": {
      "needs_background": "light"
     },
     "output_type": "display_data"
    }
   ],
   "source": [
    "import seaborn as sns\n",
    "import matplotlib.pyplot as plt\n",
    "plt.figure(figsize=(15,10))\n",
    "plt.xticks(rotation=60)\n",
    "sns.barplot(x=lang_mean_unqiue_stemmed.index, y=lang_mean_unqiue_stemmed[\"mean\"])"
   ]
  },
  {
   "cell_type": "markdown",
   "metadata": {},
   "source": [
    "### Stat Test for Stemmed Unique Words"
   ]
  },
  {
   "cell_type": "code",
   "execution_count": 94,
   "metadata": {},
   "outputs": [
    {
     "data": {
      "text/plain": [
       "(0.8595518678059013, 0.6532056470798789)"
      ]
     },
     "execution_count": 94,
     "metadata": {},
     "output_type": "execute_result"
    }
   ],
   "source": [
    "from scipy.stats import f_oneway\n",
    "\n",
    "c_stemmed = nut_rep[\"cleaned_stemmed_unique\"][nut_rep[\"language\"] == \"C\"]\n",
    "c_sharp_stemmed = nut_rep[\"cleaned_stemmed_unique\"][nut_rep[\"language\"] == \"C#\"]\n",
    "css_stemmed = nut_rep[\"cleaned_stemmed_unique\"][nut_rep[\"language\"] == \"CSS\"]\n",
    "dart_stemmed = nut_rep[\"cleaned_stemmed_unique\"][nut_rep[\"language\"] == \"Dart\"]\n",
    "elixer_stemmed = nut_rep[\"cleaned_stemmed_unique\"][nut_rep[\"language\"] == \"Elixir\"]\n",
    "go_stemmed = nut_rep[\"cleaned_stemmed_unique\"][nut_rep[\"language\"] == \"Go\"]\n",
    "html_stemmed = nut_rep[\"cleaned_stemmed_unique\"][nut_rep[\"language\"] == \"HTML\"]\n",
    "java_stemmed = nut_rep[\"cleaned_stemmed_unique\"][nut_rep[\"language\"] == \"Java\"]\n",
    "js_stemmed = nut_rep[\"cleaned_stemmed_unique\"][nut_rep[\"language\"] == \"JavaScript\"]\n",
    "nb_stemmed = nut_rep[\"cleaned_stemmed_unique\"][nut_rep[\"language\"] == \"Jupyter Notebook\"]\n",
    "kotlin_stemmed = nut_rep[\"cleaned_stemmed_unique\"][nut_rep[\"language\"] == \"Kotlin\"]\n",
    "makefile_stemmed = nut_rep[\"cleaned_stemmed_unique\"][nut_rep[\"language\"] == \"Makefile\"]\n",
    "objc_stemmed = nut_rep[\"cleaned_stemmed_unique\"][nut_rep[\"language\"] == \"Objective-C\"]\n",
    "php_stemmed = nut_rep[\"cleaned_stemmed_unique\"][nut_rep[\"language\"] == \"PHP\"]\n",
    "perl_stemmed = nut_rep[\"cleaned_stemmed_unique\"][nut_rep[\"language\"] == \"Perl\"]\n",
    "prolog_stemmed = nut_rep[\"cleaned_stemmed_unique\"][nut_rep[\"language\"] == \"Prolog\"]\n",
    "python_stemmed = nut_rep[\"cleaned_stemmed_unique\"][nut_rep[\"language\"] == \"Python\"]\n",
    "r_stemmed = nut_rep[\"cleaned_stemmed_unique\"][nut_rep[\"language\"] == \"R\"]\n",
    "ruby_stemmed = nut_rep[\"cleaned_stemmed_unique\"][nut_rep[\"language\"] == \"Ruby\"]\n",
    "shell_stemmed = nut_rep[\"cleaned_stemmed_unique\"][nut_rep[\"language\"] == \"Shell\"]\n",
    "stata_stemmed = nut_rep[\"cleaned_stemmed_unique\"][nut_rep[\"language\"] == \"Stata\"]\n",
    "swift_stemmed = nut_rep[\"cleaned_stemmed_unique\"][nut_rep[\"language\"] == \"Swift\"]\n",
    "tex_stemmed = nut_rep[\"cleaned_stemmed_unique\"][nut_rep[\"language\"] == \"TeX\"]\n",
    "typescript_stemmed = nut_rep[\"cleaned_stemmed_unique\"][nut_rep[\"language\"] == \"TypeScript\"]\n",
    "vue_stemmed = nut_rep[\"cleaned_stemmed_unique\"][nut_rep[\"language\"] == \"Vue\"]\n",
    "\n",
    "f, p = f_oneway(c_stemmed, c_sharp_stemmed, css_stemmed, dart_stemmed, elixer_stemmed, go_stemmed, html_stemmed, java_stemmed, js_stemmed, nb_stemmed, kotlin_stemmed, makefile_stemmed, objc_stemmed, php_stemmed, perl_stemmed, prolog_stemmed, python_stemmed, r_stemmed, ruby_stemmed, shell_stemmed, stata_stemmed, swift_stemmed, tex_stemmed, typescript_stemmed, vue_stemmed, axis=0)\n",
    "f, p"
   ]
  },
  {
   "cell_type": "markdown",
   "metadata": {},
   "source": [
    "### Viz for Lemmed Unique Words"
   ]
  },
  {
   "cell_type": "code",
   "execution_count": 92,
   "metadata": {},
   "outputs": [
    {
     "data": {
      "text/plain": [
       "<AxesSubplot:xlabel='language', ylabel='mean'>"
      ]
     },
     "execution_count": 92,
     "metadata": {},
     "output_type": "execute_result"
    },
    {
     "data": {
      "image/png": "[encoded data removed]",
      "text/plain": [
       "<Figure size 1080x720 with 1 Axes>"
      ]
     },
     "metadata": {
      "needs_background": "light"
     },
     "output_type": "display_data"
    }
   ],
   "source": [
    "plt.figure(figsize=(15,10))\n",
    "plt.xticks(rotation=60)\n",
    "sns.barplot(x=lang_mean_unique_lemma.index, y=lang_mean_unique_lemma[\"mean\"])"
   ]
  },
  {
   "cell_type": "markdown",
   "metadata": {},
   "source": [
    "### Stat Test for Lemmed Unique Words"
   ]
  },
  {
   "cell_type": "code",
   "execution_count": 95,
   "metadata": {},
   "outputs": [
    {
     "data": {
      "text/plain": [
       "(0.8377232919805927, 0.6809578793207784)"
      ]
     },
     "execution_count": 95,
     "metadata": {},
     "output_type": "execute_result"
    }
   ],
   "source": [
    "c_lemmed = nut_rep[\"cleaned_lemmed_unique\"][nut_rep[\"language\"] == \"C\"]\n",
    "c_sharp_lemmed = nut_rep[\"cleaned_lemmed_unique\"][nut_rep[\"language\"] == \"C#\"]\n",
    "css_lemmed = nut_rep[\"cleaned_lemmed_unique\"][nut_rep[\"language\"] == \"CSS\"]\n",
    "dart_lemmed = nut_rep[\"cleaned_lemmed_unique\"][nut_rep[\"language\"] == \"Dart\"]\n",
    "elixer_lemmed = nut_rep[\"cleaned_lemmed_unique\"][nut_rep[\"language\"] == \"Elixir\"]\n",
    "go_lemmed = nut_rep[\"cleaned_lemmed_unique\"][nut_rep[\"language\"] == \"Go\"]\n",
    "html_lemmed = nut_rep[\"cleaned_lemmed_unique\"][nut_rep[\"language\"] == \"HTML\"]\n",
    "java_lemmed = nut_rep[\"cleaned_lemmed_unique\"][nut_rep[\"language\"] == \"Java\"]\n",
    "js_lemmed = nut_rep[\"cleaned_lemmed_unique\"][nut_rep[\"language\"] == \"JavaScript\"]\n",
    "nb_lemmed = nut_rep[\"cleaned_lemmed_unique\"][nut_rep[\"language\"] == \"Jupyter Notebook\"]\n",
    "kotlin_lemmed = nut_rep[\"cleaned_lemmed_unique\"][nut_rep[\"language\"] == \"Kotlin\"]\n",
    "makefile_lemmed = nut_rep[\"cleaned_lemmed_unique\"][nut_rep[\"language\"] == \"Makefile\"]\n",
    "objc_lemmed = nut_rep[\"cleaned_lemmed_unique\"][nut_rep[\"language\"] == \"Objective-C\"]\n",
    "php_lemmed = nut_rep[\"cleaned_lemmed_unique\"][nut_rep[\"language\"] == \"PHP\"]\n",
    "perl_lemmed = nut_rep[\"cleaned_lemmed_unique\"][nut_rep[\"language\"] == \"Perl\"]\n",
    "prolog_lemmed = nut_rep[\"cleaned_lemmed_unique\"][nut_rep[\"language\"] == \"Prolog\"]\n",
    "python_lemmed = nut_rep[\"cleaned_lemmed_unique\"][nut_rep[\"language\"] == \"Python\"]\n",
    "r_lemmed = nut_rep[\"cleaned_lemmed_unique\"][nut_rep[\"language\"] == \"R\"]\n",
    "ruby_lemmed = nut_rep[\"cleaned_lemmed_unique\"][nut_rep[\"language\"] == \"Ruby\"]\n",
    "shell_lemmed = nut_rep[\"cleaned_lemmed_unique\"][nut_rep[\"language\"] == \"Shell\"]\n",
    "stata_lemmed = nut_rep[\"cleaned_lemmed_unique\"][nut_rep[\"language\"] == \"Stata\"]\n",
    "swift_lemmed = nut_rep[\"cleaned_lemmed_unique\"][nut_rep[\"language\"] == \"Swift\"]\n",
    "tex_lemmed = nut_rep[\"cleaned_lemmed_unique\"][nut_rep[\"language\"] == \"TeX\"]\n",
    "typescript_lemmed = nut_rep[\"cleaned_lemmed_unique\"][nut_rep[\"language\"] == \"TypeScript\"]\n",
    "vue_lemmed = nut_rep[\"cleaned_lemmed_unique\"][nut_rep[\"language\"] == \"Vue\"]\n",
    "\n",
    "f, p = f_oneway(c_lemmed,c_sharp_lemmed,css_lemmed,dart_lemmed,elixer_lemmed,go_lemmed,html_lemmed,java_lemmed,js_lemmed,nb_lemmed,kotlin_lemmed,makefile_lemmed,objc_lemmed,php_lemmed,perl_lemmed,prolog_lemmed,python_lemmed,r_lemmed,ruby_lemmed,shell_lemmed,stata_lemmed,swift_lemmed,tex_lemmed,typescript_lemmed,vue_lemmed, axis=0)\n",
    "f, p"
   ]
  },
  {
   "cell_type": "code",
   "execution_count": null,
   "metadata": {},
   "outputs": [],
   "source": []
  }
 ],
 "metadata": {
  "interpreter": {
   "hash": "3d597f4c481aa0f25dceb95d2a0067e73c0966dcbd003d741d821a7208527ecf"
  },
  "kernelspec": {
   "display_name": "Python 3.9.5 64-bit ('base': conda)",
   "language": "python",
   "name": "python3"
  },
  "language_info": {
   "codemirror_mode": {
    "name": "ipython",
    "version": 3
   },
   "file_extension": ".py",
   "mimetype": "text/x-python",
   "name": "python",
   "nbconvert_exporter": "python",
   "pygments_lexer": "ipython3",
   "version": "3.9.5"
  },
  "orig_nbformat": 4
 },
 "nbformat": 4,
 "nbformat_minor": 2
}
