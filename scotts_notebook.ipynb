{
 "cells": [
  {
   "cell_type": "code",
   "execution_count": 1,
   "metadata": {},
   "outputs": [
    {
     "data": {
      "text/html": [
       "<div>\n",
       "<style scoped>\n",
       "    .dataframe tbody tr th:only-of-type {\n",
       "        vertical-align: middle;\n",
       "    }\n",
       "\n",
       "    .dataframe tbody tr th {\n",
       "        vertical-align: top;\n",
       "    }\n",
       "\n",
       "    .dataframe thead th {\n",
       "        text-align: right;\n",
       "    }\n",
       "</style>\n",
       "<table border=\"1\" class=\"dataframe\">\n",
       "  <thead>\n",
       "    <tr style=\"text-align: right;\">\n",
       "      <th></th>\n",
       "      <th>language</th>\n",
       "      <th>readme_contents</th>\n",
       "      <th>clean</th>\n",
       "      <th>clean_stemmed</th>\n",
       "      <th>clean_lemmatized</th>\n",
       "    </tr>\n",
       "  </thead>\n",
       "  <tbody>\n",
       "    <tr>\n",
       "      <th>0</th>\n",
       "      <td>Java</td>\n",
       "      <td># Nutrition\\n\\nNutrition is a highly configura...</td>\n",
       "      <td>nutrition\\n\\nnutrition is a highly configurabl...</td>\n",
       "      <td>nutrit nutrit highli configur mod enabl creati...</td>\n",
       "      <td>nutrition nutrition highly configurable mod en...</td>\n",
       "    </tr>\n",
       "    <tr>\n",
       "      <th>1</th>\n",
       "      <td>Java</td>\n",
       "      <td>\\n## 营养大师\\n\\n一款基于数据分析的智能饮食推荐APP  \\n\\n仓库地址: htt...</td>\n",
       "      <td>app \\n\\n httpsgithubcomwangtianruinutritionmas...</td>\n",
       "      <td>app httpsgithubcomwangtianruinutritionmast api...</td>\n",
       "      <td>app httpsgithubcomwangtianruinutritionmaster a...</td>\n",
       "    </tr>\n",
       "    <tr>\n",
       "      <th>2</th>\n",
       "      <td>JavaScript</td>\n",
       "      <td>Nutrition Label jQuery Plugin by Nutritionix\\r...</td>\n",
       "      <td>nutrition label jquery plugin by nutritionix\\r...</td>\n",
       "      <td>nutrit label jqueri plugin nutritionix npmhttp...</td>\n",
       "      <td>nutrition label jquery plugin nutritionix npmh...</td>\n",
       "    </tr>\n",
       "    <tr>\n",
       "      <th>3</th>\n",
       "      <td>other</td>\n",
       "      <td>\\n# off-nutrition-table-extractor\\nThis reposi...</td>\n",
       "      <td>offnutritiontableextractor\\nthis repository is...</td>\n",
       "      <td>offnutritiontableextractor thi repositori accu...</td>\n",
       "      <td>offnutritiontableextractor repository accumula...</td>\n",
       "    </tr>\n",
       "    <tr>\n",
       "      <th>4</th>\n",
       "      <td>Python</td>\n",
       "      <td>﻿# wger\\n&lt;img src=\"https://raw.githubuserconte...</td>\n",
       "      <td>wger\\nimg srchttpsrawgithubusercontentcomwgerp...</td>\n",
       "      <td>wger img srchttpsrawgithubusercontentcomwgerpr...</td>\n",
       "      <td>wger img srchttpsrawgithubusercontentcomwgerpr...</td>\n",
       "    </tr>\n",
       "    <tr>\n",
       "      <th>...</th>\n",
       "      <td>...</td>\n",
       "      <td>...</td>\n",
       "      <td>...</td>\n",
       "      <td>...</td>\n",
       "      <td>...</td>\n",
       "    </tr>\n",
       "    <tr>\n",
       "      <th>112</th>\n",
       "      <td>other</td>\n",
       "      <td>= NutritionLabelPlugin\\nNutrition label genera...</td>\n",
       "      <td>nutritionlabelplugin\\nnutrition label generati...</td>\n",
       "      <td>nutritionlabelplugin nutrit label gener rail 3...</td>\n",
       "      <td>nutritionlabelplugin nutrition label generatio...</td>\n",
       "    </tr>\n",
       "    <tr>\n",
       "      <th>113</th>\n",
       "      <td>other</td>\n",
       "      <td># The-Nutrition-Coach\\n\\n## Inspiration\\nGrowi...</td>\n",
       "      <td>thenutritioncoach\\n\\n inspiration\\ngrowing up ...</td>\n",
       "      <td>thenutritioncoach inspir grow might heard term...</td>\n",
       "      <td>thenutritioncoach inspiration growing might he...</td>\n",
       "    </tr>\n",
       "    <tr>\n",
       "      <th>114</th>\n",
       "      <td>other</td>\n",
       "      <td>Here is the basic gist of this application. Th...</td>\n",
       "      <td>here is the basic gist of this application thi...</td>\n",
       "      <td>basic gist thi applic thi test ground build ge...</td>\n",
       "      <td>basic gist application testing ground build ge...</td>\n",
       "    </tr>\n",
       "    <tr>\n",
       "      <th>115</th>\n",
       "      <td>JavaScript</td>\n",
       "      <td># csci-3308-Project-GroupAwesome\\n\\nProject Na...</td>\n",
       "      <td>csci3308projectgroupawesome\\n\\nproject name fe...</td>\n",
       "      <td>csci3308projectgroupawesom project name feedme...</td>\n",
       "      <td>csci3308projectgroupawesome project name feedm...</td>\n",
       "    </tr>\n",
       "    <tr>\n",
       "      <th>116</th>\n",
       "      <td>Java</td>\n",
       "      <td># FANTA</td>\n",
       "      <td>fanta</td>\n",
       "      <td>fanta</td>\n",
       "      <td>fanta</td>\n",
       "    </tr>\n",
       "  </tbody>\n",
       "</table>\n",
       "<p>117 rows × 5 columns</p>\n",
       "</div>"
      ],
      "text/plain": [
       "       language                                    readme_contents  \\\n",
       "0          Java  # Nutrition\\n\\nNutrition is a highly configura...   \n",
       "1          Java  \\n## 营养大师\\n\\n一款基于数据分析的智能饮食推荐APP  \\n\\n仓库地址: htt...   \n",
       "2    JavaScript  Nutrition Label jQuery Plugin by Nutritionix\\r...   \n",
       "3         other  \\n# off-nutrition-table-extractor\\nThis reposi...   \n",
       "4        Python  ﻿# wger\\n<img src=\"https://raw.githubuserconte...   \n",
       "..          ...                                                ...   \n",
       "112       other  = NutritionLabelPlugin\\nNutrition label genera...   \n",
       "113       other  # The-Nutrition-Coach\\n\\n## Inspiration\\nGrowi...   \n",
       "114       other  Here is the basic gist of this application. Th...   \n",
       "115  JavaScript  # csci-3308-Project-GroupAwesome\\n\\nProject Na...   \n",
       "116        Java                                            # FANTA   \n",
       "\n",
       "                                                 clean  \\\n",
       "0    nutrition\\n\\nnutrition is a highly configurabl...   \n",
       "1    app \\n\\n httpsgithubcomwangtianruinutritionmas...   \n",
       "2    nutrition label jquery plugin by nutritionix\\r...   \n",
       "3    offnutritiontableextractor\\nthis repository is...   \n",
       "4    wger\\nimg srchttpsrawgithubusercontentcomwgerp...   \n",
       "..                                                 ...   \n",
       "112  nutritionlabelplugin\\nnutrition label generati...   \n",
       "113  thenutritioncoach\\n\\n inspiration\\ngrowing up ...   \n",
       "114  here is the basic gist of this application thi...   \n",
       "115  csci3308projectgroupawesome\\n\\nproject name fe...   \n",
       "116                                              fanta   \n",
       "\n",
       "                                         clean_stemmed  \\\n",
       "0    nutrit nutrit highli configur mod enabl creati...   \n",
       "1    app httpsgithubcomwangtianruinutritionmast api...   \n",
       "2    nutrit label jqueri plugin nutritionix npmhttp...   \n",
       "3    offnutritiontableextractor thi repositori accu...   \n",
       "4    wger img srchttpsrawgithubusercontentcomwgerpr...   \n",
       "..                                                 ...   \n",
       "112  nutritionlabelplugin nutrit label gener rail 3...   \n",
       "113  thenutritioncoach inspir grow might heard term...   \n",
       "114  basic gist thi applic thi test ground build ge...   \n",
       "115  csci3308projectgroupawesom project name feedme...   \n",
       "116                                              fanta   \n",
       "\n",
       "                                      clean_lemmatized  \n",
       "0    nutrition nutrition highly configurable mod en...  \n",
       "1    app httpsgithubcomwangtianruinutritionmaster a...  \n",
       "2    nutrition label jquery plugin nutritionix npmh...  \n",
       "3    offnutritiontableextractor repository accumula...  \n",
       "4    wger img srchttpsrawgithubusercontentcomwgerpr...  \n",
       "..                                                 ...  \n",
       "112  nutritionlabelplugin nutrition label generatio...  \n",
       "113  thenutritioncoach inspiration growing might he...  \n",
       "114  basic gist application testing ground build ge...  \n",
       "115  csci3308projectgroupawesome project name feedm...  \n",
       "116                                              fanta  \n",
       "\n",
       "[117 rows x 5 columns]"
      ]
     },
     "execution_count": 1,
     "metadata": {},
     "output_type": "execute_result"
    }
   ],
   "source": [
    "import pandas as pd\n",
    "nut_rep = pd.read_csv(\"nutrition_repos_clean_stemmed_lemmatize.csv\")\n",
    "nut_rep"
   ]
  },
  {
   "cell_type": "code",
   "execution_count": 2,
   "metadata": {},
   "outputs": [
    {
     "data": {
      "text/plain": [
       "other         52\n",
       "JavaScript    34\n",
       "Python        19\n",
       "Java          12\n",
       "Name: language, dtype: int64"
      ]
     },
     "execution_count": 2,
     "metadata": {},
     "output_type": "execute_result"
    }
   ],
   "source": [
    "nut_rep[\"language\"].value_counts()"
   ]
  },
  {
   "cell_type": "markdown",
   "metadata": {},
   "source": [
    "### Split Data into Train/Test"
   ]
  },
  {
   "cell_type": "code",
   "execution_count": 3,
   "metadata": {},
   "outputs": [],
   "source": [
    "from split_get_scale import SplitGetScale\n",
    "\n",
    "sgs = SplitGetScale()\n",
    "train, test = sgs.split(nut_rep)"
   ]
  },
  {
   "cell_type": "code",
   "execution_count": 4,
   "metadata": {},
   "outputs": [
    {
     "data": {
      "text/plain": [
       "((93, 5), (24, 5))"
      ]
     },
     "execution_count": 4,
     "metadata": {},
     "output_type": "execute_result"
    }
   ],
   "source": [
    "train.shape, test.shape"
   ]
  },
  {
   "cell_type": "code",
   "execution_count": 5,
   "metadata": {},
   "outputs": [
    {
     "data": {
      "text/html": [
       "<div>\n",
       "<style scoped>\n",
       "    .dataframe tbody tr th:only-of-type {\n",
       "        vertical-align: middle;\n",
       "    }\n",
       "\n",
       "    .dataframe tbody tr th {\n",
       "        vertical-align: top;\n",
       "    }\n",
       "\n",
       "    .dataframe thead th {\n",
       "        text-align: right;\n",
       "    }\n",
       "</style>\n",
       "<table border=\"1\" class=\"dataframe\">\n",
       "  <thead>\n",
       "    <tr style=\"text-align: right;\">\n",
       "      <th></th>\n",
       "      <th>language</th>\n",
       "      <th>readme_contents</th>\n",
       "      <th>clean</th>\n",
       "      <th>clean_stemmed</th>\n",
       "      <th>clean_lemmatized</th>\n",
       "    </tr>\n",
       "  </thead>\n",
       "  <tbody>\n",
       "    <tr>\n",
       "      <th>31</th>\n",
       "      <td>Python</td>\n",
       "      <td>The internet is full of recipes. A recipe is r...</td>\n",
       "      <td>the internet is full of recipes a recipe is re...</td>\n",
       "      <td>internet full recip recip realli onli direct i...</td>\n",
       "      <td>internet full recipe recipe really direction i...</td>\n",
       "    </tr>\n",
       "    <tr>\n",
       "      <th>29</th>\n",
       "      <td>other</td>\n",
       "      <td>[![Build Status](https://travis-ci.org/openpan...</td>\n",
       "      <td>build statushttpstravisciorgopenpantryopenpant...</td>\n",
       "      <td>build statushttpstravisciorgopenpantryopenpant...</td>\n",
       "      <td>build statushttpstravisciorgopenpantryopenpant...</td>\n",
       "    </tr>\n",
       "    <tr>\n",
       "      <th>107</th>\n",
       "      <td>JavaScript</td>\n",
       "      <td># NutritionIQ\\nNutritionIQ is a machine-learni...</td>\n",
       "      <td>nutritioniq\\nnutritioniq is a machinelearning ...</td>\n",
       "      <td>nutritioniq nutritioniq machinelearn base rece...</td>\n",
       "      <td>nutritioniq nutritioniq machinelearning based ...</td>\n",
       "    </tr>\n",
       "    <tr>\n",
       "      <th>23</th>\n",
       "      <td>other</td>\n",
       "      <td>&lt;p align=\"center\"&gt;\\n   &lt;a href=\"https://calori...</td>\n",
       "      <td>p aligncenter\\n a hrefhttpscaloriesincom targe...</td>\n",
       "      <td>p aligncent hrefhttpscaloriesincom targetblank...</td>\n",
       "      <td>p aligncenter hrefhttpscaloriesincom targetbla...</td>\n",
       "    </tr>\n",
       "    <tr>\n",
       "      <th>9</th>\n",
       "      <td>other</td>\n",
       "      <td># NutritionCal\\n\\nNutrition Diary is a food an...</td>\n",
       "      <td>nutritioncal\\n\\nnutrition diary is a food and ...</td>\n",
       "      <td>nutritionc nutrit diari food nutrit app help e...</td>\n",
       "      <td>nutritioncal nutrition diary food nutrition ap...</td>\n",
       "    </tr>\n",
       "    <tr>\n",
       "      <th>...</th>\n",
       "      <td>...</td>\n",
       "      <td>...</td>\n",
       "      <td>...</td>\n",
       "      <td>...</td>\n",
       "      <td>...</td>\n",
       "    </tr>\n",
       "    <tr>\n",
       "      <th>102</th>\n",
       "      <td>JavaScript</td>\n",
       "      <td># Nutrition\\n\\nA quick, no-frills way to track...</td>\n",
       "      <td>nutrition\\n\\na quick nofrills way to track you...</td>\n",
       "      <td>nutrit quick nofril way track macro use app ip...</td>\n",
       "      <td>nutrition quick nofrills way track macro used ...</td>\n",
       "    </tr>\n",
       "    <tr>\n",
       "      <th>98</th>\n",
       "      <td>Python</td>\n",
       "      <td># Nutrition-Optimization-New\\nThis repo implem...</td>\n",
       "      <td>nutritionoptimizationnew\\nthis repo implements...</td>\n",
       "      <td>nutritionoptimizationnew thi repo implement li...</td>\n",
       "      <td>nutritionoptimizationnew repo implement linear...</td>\n",
       "    </tr>\n",
       "    <tr>\n",
       "      <th>92</th>\n",
       "      <td>other</td>\n",
       "      <td># nutritionR\\nA wrapper for the Nutritionix AP...</td>\n",
       "      <td>nutritionr\\na wrapper for the nutritionix api ...</td>\n",
       "      <td>nutritionr wrapper nutritionix api httpswwwnut...</td>\n",
       "      <td>nutritionr wrapper nutritionix api httpswwwnut...</td>\n",
       "    </tr>\n",
       "    <tr>\n",
       "      <th>66</th>\n",
       "      <td>JavaScript</td>\n",
       "      <td># NutriJournal\\n\\nYou can find the deployed pr...</td>\n",
       "      <td>nutrijournal\\n\\nyou can find the deployed proj...</td>\n",
       "      <td>nutrijourn find deploy project getnutrijournal...</td>\n",
       "      <td>nutrijournal find deployed project getnutrijou...</td>\n",
       "    </tr>\n",
       "    <tr>\n",
       "      <th>109</th>\n",
       "      <td>other</td>\n",
       "      <td># Nutrition-Expert-System-Gestational-Diabetes</td>\n",
       "      <td>nutritionexpertsystemgestationaldiabetes</td>\n",
       "      <td>nutritionexpertsystemgestationaldiabet</td>\n",
       "      <td>nutritionexpertsystemgestationaldiabetes</td>\n",
       "    </tr>\n",
       "  </tbody>\n",
       "</table>\n",
       "<p>93 rows × 5 columns</p>\n",
       "</div>"
      ],
      "text/plain": [
       "       language                                    readme_contents  \\\n",
       "31       Python  The internet is full of recipes. A recipe is r...   \n",
       "29        other  [![Build Status](https://travis-ci.org/openpan...   \n",
       "107  JavaScript  # NutritionIQ\\nNutritionIQ is a machine-learni...   \n",
       "23        other  <p align=\"center\">\\n   <a href=\"https://calori...   \n",
       "9         other  # NutritionCal\\n\\nNutrition Diary is a food an...   \n",
       "..          ...                                                ...   \n",
       "102  JavaScript  # Nutrition\\n\\nA quick, no-frills way to track...   \n",
       "98       Python  # Nutrition-Optimization-New\\nThis repo implem...   \n",
       "92        other  # nutritionR\\nA wrapper for the Nutritionix AP...   \n",
       "66   JavaScript  # NutriJournal\\n\\nYou can find the deployed pr...   \n",
       "109       other     # Nutrition-Expert-System-Gestational-Diabetes   \n",
       "\n",
       "                                                 clean  \\\n",
       "31   the internet is full of recipes a recipe is re...   \n",
       "29   build statushttpstravisciorgopenpantryopenpant...   \n",
       "107  nutritioniq\\nnutritioniq is a machinelearning ...   \n",
       "23   p aligncenter\\n a hrefhttpscaloriesincom targe...   \n",
       "9    nutritioncal\\n\\nnutrition diary is a food and ...   \n",
       "..                                                 ...   \n",
       "102  nutrition\\n\\na quick nofrills way to track you...   \n",
       "98   nutritionoptimizationnew\\nthis repo implements...   \n",
       "92   nutritionr\\na wrapper for the nutritionix api ...   \n",
       "66   nutrijournal\\n\\nyou can find the deployed proj...   \n",
       "109           nutritionexpertsystemgestationaldiabetes   \n",
       "\n",
       "                                         clean_stemmed  \\\n",
       "31   internet full recip recip realli onli direct i...   \n",
       "29   build statushttpstravisciorgopenpantryopenpant...   \n",
       "107  nutritioniq nutritioniq machinelearn base rece...   \n",
       "23   p aligncent hrefhttpscaloriesincom targetblank...   \n",
       "9    nutritionc nutrit diari food nutrit app help e...   \n",
       "..                                                 ...   \n",
       "102  nutrit quick nofril way track macro use app ip...   \n",
       "98   nutritionoptimizationnew thi repo implement li...   \n",
       "92   nutritionr wrapper nutritionix api httpswwwnut...   \n",
       "66   nutrijourn find deploy project getnutrijournal...   \n",
       "109             nutritionexpertsystemgestationaldiabet   \n",
       "\n",
       "                                      clean_lemmatized  \n",
       "31   internet full recipe recipe really direction i...  \n",
       "29   build statushttpstravisciorgopenpantryopenpant...  \n",
       "107  nutritioniq nutritioniq machinelearning based ...  \n",
       "23   p aligncenter hrefhttpscaloriesincom targetbla...  \n",
       "9    nutritioncal nutrition diary food nutrition ap...  \n",
       "..                                                 ...  \n",
       "102  nutrition quick nofrills way track macro used ...  \n",
       "98   nutritionoptimizationnew repo implement linear...  \n",
       "92   nutritionr wrapper nutritionix api httpswwwnut...  \n",
       "66   nutrijournal find deployed project getnutrijou...  \n",
       "109           nutritionexpertsystemgestationaldiabetes  \n",
       "\n",
       "[93 rows x 5 columns]"
      ]
     },
     "execution_count": 5,
     "metadata": {},
     "output_type": "execute_result"
    }
   ],
   "source": [
    "train"
   ]
  },
  {
   "cell_type": "code",
   "execution_count": 39,
   "metadata": {},
   "outputs": [],
   "source": [
    "# import numpy as np\n",
    "# cond_list = [nut_rep[\"language\"] == \"HTML\", nut_rep[\"language\"] == \"Ruby\", nut_rep[\"language\"] == \"Jupyter Notebook\", nut_rep[\"language\"] == \"Dart\", nut_rep[\"language\"] == \"PHP\", nut_rep[\"language\"] == \"TypeScript\", nut_rep[\"language\"] == \"R\", nut_rep[\"language\"] == \"CSS\", nut_rep[\"language\"] == \"Swift\", nut_rep[\"language\"] == \"C#\", nut_rep[\"language\"] == \"Objective-C\", nut_rep[\"language\"] == \"Perl\", nut_rep[\"language\"] == \"Kotlin\", nut_rep[\"language\"] == \"Stata\", nut_rep[\"language\"] == \"Elixir\", nut_rep[\"language\"] == \"C\", nut_rep[\"language\"] == \"TeX\", nut_rep[\"language\"] == \"Makefile\", nut_rep[\"language\"] == \"Vue\", nut_rep[\"language\"] == \"Shell\", nut_rep[\"language\"] == \"Go\", nut_rep[\"language\"] == \"Prolog\", nut_rep[\"language\"] == \"JavaScript\", nut_rep[\"language\"] == \"Python\", nut_rep[\"language\"] == \"Java\"]\n",
    "# choice_list = [\"other\" for i in range(22)]\n",
    "# choice_list.extend([\"JavaScript\", \"Python\", \"Java\"])\n",
    "# nut_rep[\"language\"] = np.select(cond_list, choice_list)\n"
   ]
  },
  {
   "cell_type": "code",
   "execution_count": 40,
   "metadata": {},
   "outputs": [],
   "source": [
    "# print(len(cond_list))\n",
    "# print(len(choice_list))"
   ]
  },
  {
   "cell_type": "code",
   "execution_count": 41,
   "metadata": {},
   "outputs": [],
   "source": [
    "# cond_list = [nut_rep[\"language\"] == \"0\", nut_rep[\"language\"] == \"JavaScript\", nut_rep[\"language\"] == \"Python\", nut_rep[\"language\"] == \"Java\"]\n",
    "# choice_list = [\"other\", \"JavaScript\", \"Python\", \"Java\"]\n",
    "# nut_rep[\"language\"] = np.select(cond_list, choice_list)"
   ]
  },
  {
   "cell_type": "code",
   "execution_count": 42,
   "metadata": {},
   "outputs": [],
   "source": [
    "#nut_rep[\"language\"].value_counts()"
   ]
  },
  {
   "cell_type": "code",
   "execution_count": 43,
   "metadata": {},
   "outputs": [],
   "source": [
    "# nut_rep.to_csv(\"nutrition_repos_clean_stemmed_lemmatize.csv\", index=False)"
   ]
  },
  {
   "cell_type": "code",
   "execution_count": 44,
   "metadata": {},
   "outputs": [],
   "source": [
    "# len(nut_rep)"
   ]
  },
  {
   "cell_type": "code",
   "execution_count": 45,
   "metadata": {},
   "outputs": [],
   "source": [
    "# lang_dict = {}\n",
    "# for lang in nut_rep[\"language\"].value_counts().index:\n",
    "#     lang_dict[lang] = len(set(nut_rep[nut_rep[\"language\"] == lang][\"clean_stemmed\"].str.split() for ind in nut_rep[nut_rep[\"language\"] == lang].index)).median()"
   ]
  },
  {
   "cell_type": "code",
   "execution_count": 126,
   "metadata": {},
   "outputs": [],
   "source": [
    "# a = []\n",
    "# for ind in nut_rep[nut_rep[\"language\"] == \"Python\"][\"clean_stemmed\"].str.split().index:\n",
    "#     a.append(len(set(nut_rep[nut_rep[\"language\"] == \"Python\"][\"clean_stemmed\"].str.split()[ind])))"
   ]
  },
  {
   "cell_type": "code",
   "execution_count": 127,
   "metadata": {},
   "outputs": [],
   "source": [
    "# lang_dict = {}\n",
    "# for lang in nut_rep[\"language\"].value_counts().index:\n",
    "#     a = []\n",
    "#     lang_dict[lang] = a\n",
    "#     for ind in nut_rep[nut_rep[\"language\"] == lang][\"clean_stemmed\"].str.split().index:\n",
    "#         lang_dict[lang] = a.append(len(set(nut_rep[nut_rep[\"language\"] == lang][\"clean_stemmed\"].str.split()[ind])))"
   ]
  },
  {
   "cell_type": "code",
   "execution_count": 6,
   "metadata": {},
   "outputs": [],
   "source": [
    "def get_unique_words(string):\n",
    "    num_unique_words = len(set(string.split()))\n",
    "    return num_unique_words"
   ]
  },
  {
   "cell_type": "code",
   "execution_count": 7,
   "metadata": {},
   "outputs": [],
   "source": [
    "train[\"cleaned_stemmed_unique\"] = train[\"clean_stemmed\"].apply(get_unique_words)"
   ]
  },
  {
   "cell_type": "code",
   "execution_count": 8,
   "metadata": {},
   "outputs": [],
   "source": [
    "train[\"cleaned_lemmed_unique\"] = train[\"clean_lemmatized\"].apply(get_unique_words)"
   ]
  },
  {
   "cell_type": "code",
   "execution_count": 9,
   "metadata": {},
   "outputs": [],
   "source": [
    "# for ind in nut_rep[\"clean_stemmed\"].str.split().index:\n",
    "#     print(len(set(nut_rep[\"clean_stemmed\"].str.split()[ind])))"
   ]
  },
  {
   "cell_type": "code",
   "execution_count": 10,
   "metadata": {},
   "outputs": [],
   "source": [
    "# nut_rep[\"clean_lemmatized\"].str.split()"
   ]
  },
  {
   "cell_type": "code",
   "execution_count": 11,
   "metadata": {},
   "outputs": [],
   "source": [
    "# nut_rep[\"clean_stemmed\"].str.split()"
   ]
  },
  {
   "cell_type": "markdown",
   "metadata": {},
   "source": [
    "### Explore Question 3: Does the length of the README vary by programming language?"
   ]
  },
  {
   "cell_type": "code",
   "execution_count": 12,
   "metadata": {},
   "outputs": [],
   "source": [
    "# def get_readme_length(string):\n",
    "#     length = len(string.split())\n",
    "#     return length\n",
    "\n",
    "# nut_rep[\"cleaned_stemmed_length\"] = nut_rep[\"clean_stemmed\"].apply(get_readme_length)\n",
    "# nut_rep[\"cleaned_lemmed_length\"] = nut_rep[\"clean_lemmatized\"].apply(get_readme_length)"
   ]
  },
  {
   "cell_type": "markdown",
   "metadata": {},
   "source": [
    "### Explore Questions 4: Do different programming languages use a different number of unique words?"
   ]
  },
  {
   "cell_type": "code",
   "execution_count": 13,
   "metadata": {},
   "outputs": [],
   "source": [
    "lang_mean_unqiue_stemmed = train.groupby(\"language\")[\"cleaned_stemmed_unique\"].agg([\"mean\"])"
   ]
  },
  {
   "cell_type": "code",
   "execution_count": 14,
   "metadata": {},
   "outputs": [],
   "source": [
    "lang_mean_unique_lemma = train.groupby(\"language\")[\"cleaned_lemmed_unique\"].agg([\"mean\"])"
   ]
  },
  {
   "cell_type": "markdown",
   "metadata": {},
   "source": [
    "### Viz for Stemmed Unique Words"
   ]
  },
  {
   "cell_type": "code",
   "execution_count": 15,
   "metadata": {},
   "outputs": [
    {
     "data": {
      "text/plain": [
       "<AxesSubplot:xlabel='language', ylabel='mean'>"
      ]
     },
     "execution_count": 15,
     "metadata": {},
     "output_type": "execute_result"
    },
    {
     "data": {
      "image/png": "[encoded data removed]",
      "text/plain": [
       "<Figure size 432x288 with 1 Axes>"
      ]
     },
     "metadata": {
      "needs_background": "light"
     },
     "output_type": "display_data"
    }
   ],
   "source": [
    "import seaborn as sns\n",
    "import matplotlib.pyplot as plt\n",
    "sns.barplot(x=lang_mean_unqiue_stemmed.index, y=lang_mean_unqiue_stemmed[\"mean\"])"
   ]
  },
  {
   "cell_type": "markdown",
   "metadata": {},
   "source": [
    "### Stat Test for Stemmed Unique Words"
   ]
  },
  {
   "cell_type": "code",
   "execution_count": 16,
   "metadata": {},
   "outputs": [
    {
     "data": {
      "text/plain": [
       "(0.40330240469969625, 0.7509737262874632)"
      ]
     },
     "execution_count": 16,
     "metadata": {},
     "output_type": "execute_result"
    }
   ],
   "source": [
    "from scipy.stats import f_oneway\n",
    "java_stemmed = train[\"cleaned_stemmed_unique\"][train[\"language\"] == \"Java\"]\n",
    "js_stemmed = train[\"cleaned_stemmed_unique\"][train[\"language\"] == \"JavaScript\"]\n",
    "python_stemmed = train[\"cleaned_stemmed_unique\"][train[\"language\"] == \"Python\"]\n",
    "other_stemmed = train[\"cleaned_stemmed_unique\"][train[\"language\"] == \"other\"]\n",
    "\n",
    "f, p = f_oneway(java_stemmed, js_stemmed, python_stemmed, other_stemmed, axis=0)\n",
    "f, p"
   ]
  },
  {
   "cell_type": "markdown",
   "metadata": {},
   "source": [
    "### Viz for Lemmed Unique Words"
   ]
  },
  {
   "cell_type": "code",
   "execution_count": 17,
   "metadata": {},
   "outputs": [
    {
     "data": {
      "text/plain": [
       "<AxesSubplot:xlabel='language', ylabel='mean'>"
      ]
     },
     "execution_count": 17,
     "metadata": {},
     "output_type": "execute_result"
    },
    {
     "data": {
      "image/png": "[encoded data removed]",
      "text/plain": [
       "<Figure size 432x288 with 1 Axes>"
      ]
     },
     "metadata": {
      "needs_background": "light"
     },
     "output_type": "display_data"
    }
   ],
   "source": [
    "sns.barplot(x=lang_mean_unique_lemma.index, y=lang_mean_unique_lemma[\"mean\"])"
   ]
  },
  {
   "cell_type": "markdown",
   "metadata": {},
   "source": [
    "### Stat Test for Lemmed Unique Words"
   ]
  },
  {
   "cell_type": "code",
   "execution_count": 18,
   "metadata": {},
   "outputs": [
    {
     "data": {
      "text/plain": [
       "(0.376187748875405, 0.7703839788978954)"
      ]
     },
     "execution_count": 18,
     "metadata": {},
     "output_type": "execute_result"
    }
   ],
   "source": [
    "java_lemmed = train[\"cleaned_lemmed_unique\"][train[\"language\"] == \"Java\"]\n",
    "js_lemmed = train[\"cleaned_lemmed_unique\"][train[\"language\"] == \"JavaScript\"]\n",
    "python_lemmed = train[\"cleaned_lemmed_unique\"][train[\"language\"] == \"Python\"]\n",
    "other_lemmed = train[\"cleaned_lemmed_unique\"][train[\"language\"] == \"other\"]\n",
    "\n",
    "\n",
    "f, p = f_oneway(java_lemmed, js_lemmed,python_lemmed, other_lemmed, axis=0)\n",
    "f, p"
   ]
  },
  {
   "cell_type": "code",
   "execution_count": null,
   "metadata": {},
   "outputs": [],
   "source": []
  }
 ],
 "metadata": {
  "interpreter": {
   "hash": "3d597f4c481aa0f25dceb95d2a0067e73c0966dcbd003d741d821a7208527ecf"
  },
  "kernelspec": {
   "display_name": "Python 3.9.5 64-bit ('base': conda)",
   "language": "python",
   "name": "python3"
  },
  "language_info": {
   "codemirror_mode": {
    "name": "ipython",
    "version": 3
   },
   "file_extension": ".py",
   "mimetype": "text/x-python",
   "name": "python",
   "nbconvert_exporter": "python",
   "pygments_lexer": "ipython3",
   "version": "3.9.5"
  },
  "orig_nbformat": 4
 },
 "nbformat": 4,
 "nbformat_minor": 2
}
