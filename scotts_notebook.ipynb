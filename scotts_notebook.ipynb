{
 "cells": [
  {
   "cell_type": "code",
   "execution_count": 18,
   "metadata": {},
   "outputs": [
    {
     "data": {
      "text/html": [
       "<div>\n",
       "<style scoped>\n",
       "    .dataframe tbody tr th:only-of-type {\n",
       "        vertical-align: middle;\n",
       "    }\n",
       "\n",
       "    .dataframe tbody tr th {\n",
       "        vertical-align: top;\n",
       "    }\n",
       "\n",
       "    .dataframe thead th {\n",
       "        text-align: right;\n",
       "    }\n",
       "</style>\n",
       "<table border=\"1\" class=\"dataframe\">\n",
       "  <thead>\n",
       "    <tr style=\"text-align: right;\">\n",
       "      <th></th>\n",
       "      <th>language</th>\n",
       "      <th>readme_contents</th>\n",
       "      <th>clean</th>\n",
       "      <th>clean_stemmed</th>\n",
       "      <th>clean_lemmatized</th>\n",
       "    </tr>\n",
       "  </thead>\n",
       "  <tbody>\n",
       "    <tr>\n",
       "      <th>0</th>\n",
       "      <td>Java</td>\n",
       "      <td># Nutrition\\n\\nNutrition is a highly configura...</td>\n",
       "      <td>nutrition\\n\\nnutrition is a highly configurabl...</td>\n",
       "      <td>nutrit nutrit highli configur mod enabl creati...</td>\n",
       "      <td>nutrition nutrition highly configurable mod en...</td>\n",
       "    </tr>\n",
       "    <tr>\n",
       "      <th>1</th>\n",
       "      <td>Java</td>\n",
       "      <td>\\n## 营养大师\\n\\n一款基于数据分析的智能饮食推荐APP  \\n\\n仓库地址: htt...</td>\n",
       "      <td>app \\n\\n httpsgithubcomwangtianruinutritionmas...</td>\n",
       "      <td>app httpsgithubcomwangtianruinutritionmast api...</td>\n",
       "      <td>app httpsgithubcomwangtianruinutritionmaster a...</td>\n",
       "    </tr>\n",
       "    <tr>\n",
       "      <th>2</th>\n",
       "      <td>JavaScript</td>\n",
       "      <td>Nutrition Label jQuery Plugin by Nutritionix\\r...</td>\n",
       "      <td>nutrition label jquery plugin by nutritionix\\r...</td>\n",
       "      <td>nutrit label jqueri plugin nutritionix npmhttp...</td>\n",
       "      <td>nutrition label jquery plugin nutritionix npmh...</td>\n",
       "    </tr>\n",
       "    <tr>\n",
       "      <th>3</th>\n",
       "      <td>Jupyter Notebook</td>\n",
       "      <td>\\n# off-nutrition-table-extractor\\nThis reposi...</td>\n",
       "      <td>offnutritiontableextractor\\nthis repository is...</td>\n",
       "      <td>offnutritiontableextractor thi repositori accu...</td>\n",
       "      <td>offnutritiontableextractor repository accumula...</td>\n",
       "    </tr>\n",
       "    <tr>\n",
       "      <th>4</th>\n",
       "      <td>Python</td>\n",
       "      <td>﻿# wger\\n&lt;img src=\"https://raw.githubuserconte...</td>\n",
       "      <td>wger\\nimg srchttpsrawgithubusercontentcomwgerp...</td>\n",
       "      <td>wger img srchttpsrawgithubusercontentcomwgerpr...</td>\n",
       "      <td>wger img srchttpsrawgithubusercontentcomwgerpr...</td>\n",
       "    </tr>\n",
       "    <tr>\n",
       "      <th>...</th>\n",
       "      <td>...</td>\n",
       "      <td>...</td>\n",
       "      <td>...</td>\n",
       "      <td>...</td>\n",
       "      <td>...</td>\n",
       "    </tr>\n",
       "    <tr>\n",
       "      <th>112</th>\n",
       "      <td>Ruby</td>\n",
       "      <td>= NutritionLabelPlugin\\nNutrition label genera...</td>\n",
       "      <td>nutritionlabelplugin\\nnutrition label generati...</td>\n",
       "      <td>nutritionlabelplugin nutrit label gener rail 3...</td>\n",
       "      <td>nutritionlabelplugin nutrition label generatio...</td>\n",
       "    </tr>\n",
       "    <tr>\n",
       "      <th>113</th>\n",
       "      <td>HTML</td>\n",
       "      <td># The-Nutrition-Coach\\n\\n## Inspiration\\nGrowi...</td>\n",
       "      <td>thenutritioncoach\\n\\n inspiration\\ngrowing up ...</td>\n",
       "      <td>thenutritioncoach inspir grow might heard term...</td>\n",
       "      <td>thenutritioncoach inspiration growing might he...</td>\n",
       "    </tr>\n",
       "    <tr>\n",
       "      <th>114</th>\n",
       "      <td>Ruby</td>\n",
       "      <td>Here is the basic gist of this application. Th...</td>\n",
       "      <td>here is the basic gist of this application thi...</td>\n",
       "      <td>basic gist thi applic thi test ground build ge...</td>\n",
       "      <td>basic gist application testing ground build ge...</td>\n",
       "    </tr>\n",
       "    <tr>\n",
       "      <th>115</th>\n",
       "      <td>JavaScript</td>\n",
       "      <td># csci-3308-Project-GroupAwesome\\n\\nProject Na...</td>\n",
       "      <td>csci3308projectgroupawesome\\n\\nproject name fe...</td>\n",
       "      <td>csci3308projectgroupawesom project name feedme...</td>\n",
       "      <td>csci3308projectgroupawesome project name feedm...</td>\n",
       "    </tr>\n",
       "    <tr>\n",
       "      <th>116</th>\n",
       "      <td>Java</td>\n",
       "      <td># FANTA</td>\n",
       "      <td>fanta</td>\n",
       "      <td>fanta</td>\n",
       "      <td>fanta</td>\n",
       "    </tr>\n",
       "  </tbody>\n",
       "</table>\n",
       "<p>117 rows × 5 columns</p>\n",
       "</div>"
      ],
      "text/plain": [
       "             language                                    readme_contents  \\\n",
       "0                Java  # Nutrition\\n\\nNutrition is a highly configura...   \n",
       "1                Java  \\n## 营养大师\\n\\n一款基于数据分析的智能饮食推荐APP  \\n\\n仓库地址: htt...   \n",
       "2          JavaScript  Nutrition Label jQuery Plugin by Nutritionix\\r...   \n",
       "3    Jupyter Notebook  \\n# off-nutrition-table-extractor\\nThis reposi...   \n",
       "4              Python  ﻿# wger\\n<img src=\"https://raw.githubuserconte...   \n",
       "..                ...                                                ...   \n",
       "112              Ruby  = NutritionLabelPlugin\\nNutrition label genera...   \n",
       "113              HTML  # The-Nutrition-Coach\\n\\n## Inspiration\\nGrowi...   \n",
       "114              Ruby  Here is the basic gist of this application. Th...   \n",
       "115        JavaScript  # csci-3308-Project-GroupAwesome\\n\\nProject Na...   \n",
       "116              Java                                            # FANTA   \n",
       "\n",
       "                                                 clean  \\\n",
       "0    nutrition\\n\\nnutrition is a highly configurabl...   \n",
       "1    app \\n\\n httpsgithubcomwangtianruinutritionmas...   \n",
       "2    nutrition label jquery plugin by nutritionix\\r...   \n",
       "3    offnutritiontableextractor\\nthis repository is...   \n",
       "4    wger\\nimg srchttpsrawgithubusercontentcomwgerp...   \n",
       "..                                                 ...   \n",
       "112  nutritionlabelplugin\\nnutrition label generati...   \n",
       "113  thenutritioncoach\\n\\n inspiration\\ngrowing up ...   \n",
       "114  here is the basic gist of this application thi...   \n",
       "115  csci3308projectgroupawesome\\n\\nproject name fe...   \n",
       "116                                              fanta   \n",
       "\n",
       "                                         clean_stemmed  \\\n",
       "0    nutrit nutrit highli configur mod enabl creati...   \n",
       "1    app httpsgithubcomwangtianruinutritionmast api...   \n",
       "2    nutrit label jqueri plugin nutritionix npmhttp...   \n",
       "3    offnutritiontableextractor thi repositori accu...   \n",
       "4    wger img srchttpsrawgithubusercontentcomwgerpr...   \n",
       "..                                                 ...   \n",
       "112  nutritionlabelplugin nutrit label gener rail 3...   \n",
       "113  thenutritioncoach inspir grow might heard term...   \n",
       "114  basic gist thi applic thi test ground build ge...   \n",
       "115  csci3308projectgroupawesom project name feedme...   \n",
       "116                                              fanta   \n",
       "\n",
       "                                      clean_lemmatized  \n",
       "0    nutrition nutrition highly configurable mod en...  \n",
       "1    app httpsgithubcomwangtianruinutritionmaster a...  \n",
       "2    nutrition label jquery plugin nutritionix npmh...  \n",
       "3    offnutritiontableextractor repository accumula...  \n",
       "4    wger img srchttpsrawgithubusercontentcomwgerpr...  \n",
       "..                                                 ...  \n",
       "112  nutritionlabelplugin nutrition label generatio...  \n",
       "113  thenutritioncoach inspiration growing might he...  \n",
       "114  basic gist application testing ground build ge...  \n",
       "115  csci3308projectgroupawesome project name feedm...  \n",
       "116                                              fanta  \n",
       "\n",
       "[117 rows x 5 columns]"
      ]
     },
     "execution_count": 18,
     "metadata": {},
     "output_type": "execute_result"
    }
   ],
   "source": [
    "import pandas as pd\n",
    "nut_rep = pd.read_csv(\"nutrition_repos_clean_stemmed_lemmatize.csv\")\n",
    "nut_rep"
   ]
  },
  {
   "cell_type": "code",
   "execution_count": 19,
   "metadata": {},
   "outputs": [
    {
     "data": {
      "text/plain": [
       "language            0\n",
       "readme_contents     0\n",
       "clean               0\n",
       "clean_stemmed       0\n",
       "clean_lemmatized    0\n",
       "dtype: int64"
      ]
     },
     "execution_count": 19,
     "metadata": {},
     "output_type": "execute_result"
    }
   ],
   "source": [
    "nut_rep.isnull().sum()"
   ]
  },
  {
   "cell_type": "code",
   "execution_count": 23,
   "metadata": {},
   "outputs": [
    {
     "data": {
      "text/plain": [
       "117"
      ]
     },
     "execution_count": 23,
     "metadata": {},
     "output_type": "execute_result"
    }
   ],
   "source": [
    "len(nut_rep)"
   ]
  },
  {
   "cell_type": "markdown",
   "metadata": {},
   "source": [
    "### Explore Questions 4: Do different programming languages use a different number of unique words?"
   ]
  },
  {
   "cell_type": "code",
   "execution_count": 20,
   "metadata": {},
   "outputs": [
    {
     "data": {
      "text/plain": [
       "<pandas.core.groupby.generic.SeriesGroupBy object at 0x7f9c31b42e80>"
      ]
     },
     "execution_count": 20,
     "metadata": {},
     "output_type": "execute_result"
    }
   ],
   "source": [
    "nut_rep.groupby(\"language\")[\"clean_stemmed\"]"
   ]
  },
  {
   "cell_type": "code",
   "execution_count": 21,
   "metadata": {},
   "outputs": [
    {
     "data": {
      "text/plain": [
       "4      2374\n",
       "13     9766\n",
       "14     5129\n",
       "17     3323\n",
       "21     1906\n",
       "25      461\n",
       "26      195\n",
       "27     1335\n",
       "30      696\n",
       "31     7830\n",
       "34      816\n",
       "50     7214\n",
       "56     2412\n",
       "59     1725\n",
       "78      484\n",
       "93     2157\n",
       "98     1837\n",
       "103      73\n",
       "110    1092\n",
       "Name: clean_stemmed, dtype: int64"
      ]
     },
     "execution_count": 21,
     "metadata": {},
     "output_type": "execute_result"
    }
   ],
   "source": [
    "nut_rep[\"clean_stemmed\"][nut_rep[\"language\"] == \"Python\"].str.len()"
   ]
  },
  {
   "cell_type": "code",
   "execution_count": null,
   "metadata": {},
   "outputs": [],
   "source": []
  }
 ],
 "metadata": {
  "interpreter": {
   "hash": "3d597f4c481aa0f25dceb95d2a0067e73c0966dcbd003d741d821a7208527ecf"
  },
  "kernelspec": {
   "display_name": "Python 3.9.5 64-bit ('base': conda)",
   "language": "python",
   "name": "python3"
  },
  "language_info": {
   "codemirror_mode": {
    "name": "ipython",
    "version": 3
   },
   "file_extension": ".py",
   "mimetype": "text/x-python",
   "name": "python",
   "nbconvert_exporter": "python",
   "pygments_lexer": "ipython3",
   "version": "3.9.5"
  },
  "orig_nbformat": 4
 },
 "nbformat": 4,
 "nbformat_minor": 2
}
