{
 "cells": [
  {
   "cell_type": "markdown",
   "metadata": {},
   "source": [
    "## Final Report\n",
    "\n",
    "# <p style=\"font-size:40px ; color:blue\" align=\"center\">NLP with Git Hub Readme Files</p> <sub>By Christine Cabanela, Scott Schmidl, Christian Freeman, and Kaniela Denis - 11 Feb 2022</sub>\n",
    "\n",
    "<hr style=\"border:2px solid blue\"> </hr>"
   ]
  },
  {
   "cell_type": "markdown",
   "metadata": {},
   "source": [
    "<hr style=\"border:2px solid blue\"> </hr>\n",
    "\n",
    "# <font color = 'blue'> Agenda"
   ]
  },
  {
   "cell_type": "markdown",
   "metadata": {},
   "source": [
    "<hr style=\"border:2px solid blue\"> </hr>\n",
    "\n",
    "# <font color = 'blue'> Overview"
   ]
  },
  {
   "cell_type": "markdown",
   "metadata": {},
   "source": [
    "## Project Description: \n",
    "In this project, we will utilize the text in README files of x repositories that relate to health, explore initial questions and find common words that have a correlation to various programming languages.  We will use machine learning to create a classification model that predicts what programming language a repository is, depending on what text is included in the README file.\n",
    "\n",
    "## Goal: \n",
    "Our overall goal is to identify key words among a variation of REPOs on Guthub and create a model to predict what programming language that a repository is based on the text included in the README files.\n",
    "\n",
    "## Support:\n",
    "- Please see README for data dictionary."
   ]
  },
  {
   "cell_type": "code",
   "execution_count": 1,
   "metadata": {},
   "outputs": [],
   "source": [
    "# import needed libraries\n",
    "import pandas as pd\n",
    "from split_get_scale import SplitGetScale\n",
    "import viz\n",
    "import stat_testing\n",
    "import modeling"
   ]
  },
  {
   "cell_type": "markdown",
   "metadata": {},
   "source": [
    "<hr style=\"border:2px solid blue\"> </hr>\n",
    "\n",
    "# <font color = 'blue'> Acquire"
   ]
  },
  {
   "cell_type": "markdown",
   "metadata": {},
   "source": [
    "<hr style=\"border:2px solid blue\"> </hr>\n",
    "\n",
    "# <font color = 'blue'> Prepare"
   ]
  },
  {
   "cell_type": "markdown",
   "metadata": {},
   "source": [
    "<hr style=\"border:2px solid blue\"> </hr>\n",
    "\n",
    "# <font color = 'blue'> Explore"
   ]
  },
  {
   "cell_type": "markdown",
   "metadata": {},
   "source": [
    "## Questions to Explore:\n",
    "\n",
    "- Question 1: What are the most common words in READMEs?\n",
    "- Question 2: What does the distribution of IDFs look like for the most common words?\n",
    "- Question 3: Does the length of the README vary by programming language?\n",
    "- Question 4: Do different programming languages use a different number of unique words?"
   ]
  },
  {
   "cell_type": "code",
   "execution_count": 2,
   "metadata": {},
   "outputs": [],
   "source": [
    "# import dataframe\n",
    "filename = \"nutrition_repos_clean_stemmed_lemmatize.csv\"\n",
    "df = pd.read_csv(filename)\n",
    "\n",
    "# create object for split data\n",
    "sgs = SplitGetScale()\n",
    "train, test = sgs.split(df)\n",
    "\n",
    "# create separate copy for bivariate viz and stats\n",
    "train_viz_stats = train.copy()\n",
    "\n",
    "# create X and y for stemmed readme contents\n",
    "(X_train_stemmed, y_train_stemmed), (X_test_stemmed, y_test_stemmed) = sgs.get_Xy(train, test, cols_train=\"clean_stemmed\")\n",
    "\n",
    "# create X and y for lemmatized readme contents\n",
    "(X_train_lemmed, y_train_lemmed), (X_test_lemmed, y_test_lemmed) = sgs.get_Xy(train, test, cols_train=\"clean_lemmatized\")"
   ]
  },
  {
   "cell_type": "markdown",
   "metadata": {},
   "source": [
    "## Visualizations and Statistical Testing\n",
    "- For the statistical testing done on questions 3 and 4 the significance level equals 0.05."
   ]
  },
  {
   "cell_type": "markdown",
   "metadata": {},
   "source": [
    "### Question 1\n",
    "What are the most common words in READMEs?"
   ]
  },
  {
   "cell_type": "code",
   "execution_count": 3,
   "metadata": {},
   "outputs": [
    {
     "data": {
      "image/png": "[encoded data removed]",
      "text/plain": [
       "<Figure size 432x288 with 1 Axes>"
      ]
     },
     "metadata": {
      "needs_background": "light"
     },
     "output_type": "display_data"
    },
    {
     "data": {
      "image/png": "[encoded data removed]",
      "text/plain": [
       "<Figure size 432x288 with 1 Axes>"
      ]
     },
     "metadata": {
      "needs_background": "light"
     },
     "output_type": "display_data"
    }
   ],
   "source": [
    "# get top 10 stemmed and lemmed words\n",
    "stemm_words, stemm_top_10_words = viz.stemm_top_ten_words(df)\n",
    "lemm_top_10_words, lemm_words = viz.lemm_top_ten_words(df)\n",
    "viz.stemm_top_ten(stemm_top_10_words)\n",
    "viz.lemm_top_ten(lemm_top_10_words)"
   ]
  },
  {
   "cell_type": "markdown",
   "metadata": {},
   "source": [
    "### Take Aways\n",
    "- Top 10 Most Common Stemmed Words\n",
    "  - use\n",
    "  - thi\n",
    "  - food\n",
    "  - nutrit\n",
    "  - user\n",
    "  - data\n",
    "  - instal\n",
    "<p></p>\n",
    "\n",
    "- Top Most Common Lemmatized Words\n",
    "  - food\n",
    "  - nutrition\n",
    "  - user\n",
    "  - data\n",
    "  - gram\n",
    "  - recipe\n",
    "  - use"
   ]
  },
  {
   "cell_type": "markdown",
   "metadata": {},
   "source": [
    "### Question 2\n",
    "What does the distribution of IDFs look like for the most common words?"
   ]
  },
  {
   "cell_type": "code",
   "execution_count": 4,
   "metadata": {},
   "outputs": [
    {
     "data": {
      "image/png": "[encoded data removed]",
      "text/plain": [
       "<Figure size 432x288 with 1 Axes>"
      ]
     },
     "metadata": {
      "needs_background": "light"
     },
     "output_type": "display_data"
    }
   ],
   "source": [
    "# get the idf of most common words\n",
    "words_df = viz.data_words_idf(df)\n",
    "viz.idf_words_viz(words_df)"
   ]
  },
  {
   "cell_type": "markdown",
   "metadata": {},
   "source": [
    "### Take Away\n",
    "- IDF of most common words:\n",
    "  - recipe\n",
    "  - gram\n",
    "  - database\n",
    "  - user\n",
    "  - file\n",
    "  - food\n",
    "  - data\n",
    "  - app\n",
    "  - use\n",
    "  - nutrition"
   ]
  },
  {
   "cell_type": "markdown",
   "metadata": {},
   "source": [
    "### Question 3\n",
    "Does the length of the README vary by programming language?\n",
    "- $H_O$: two or more groups have the same population mean.\n",
    "- $H_A$: two or more groups have different population means."
   ]
  },
  {
   "cell_type": "code",
   "execution_count": 5,
   "metadata": {},
   "outputs": [
    {
     "name": "stdout",
     "output_type": "stream",
     "text": [
      "The Anova test for Stemmed : F_onewayResult(statistic=1.7695947265830319, pvalue=0.15872927480972487)\n",
      "The Anova test for Lemmetize : F_onewayResult(statistic=1.8007264742868438, pvalue=0.15281445790951187)\n"
     ]
    },
    {
     "data": {
      "image/png": "[encoded data removed]",
      "text/plain": [
       "<Figure size 1152x720 with 1 Axes>"
      ]
     },
     "metadata": {
      "needs_background": "light"
     },
     "output_type": "display_data"
    }
   ],
   "source": [
    "# check mean length of each readme\n",
    "viz.q3_viz(train_viz_stats)\n",
    "stat_testing.q3_stat_test(train_viz_stats)"
   ]
  },
  {
   "cell_type": "markdown",
   "metadata": {},
   "source": [
    "### Take Away\n",
    "- With both p-values great than the significance level, we can say that there exists a significanct difference between means."
   ]
  },
  {
   "cell_type": "markdown",
   "metadata": {},
   "source": [
    "### Question 4\n",
    "Do different programming languages use a different number of unique words?\n",
    "\n",
    "- $H_O$: two or more groups have the same population mean.\n",
    "- $H_A$: two or more groups have different population means."
   ]
  },
  {
   "cell_type": "code",
   "execution_count": 6,
   "metadata": {},
   "outputs": [
    {
     "data": {
      "text/plain": [
       "(1.2745629844457906, 0.28801993783271557)"
      ]
     },
     "execution_count": 6,
     "metadata": {},
     "output_type": "execute_result"
    },
    {
     "data": {
      "image/png": "[encoded data removed]",
      "text/plain": [
       "<Figure size 432x288 with 1 Axes>"
      ]
     },
     "metadata": {
      "needs_background": "light"
     },
     "output_type": "display_data"
    }
   ],
   "source": [
    "# check count of unique stemmed words per readme\n",
    "viz.get_unique_stemmed_viz(train_viz_stats)\n",
    "f, p = stat_testing.get_unique_stemmed_anova(train_viz_stats)\n",
    "f, p\n"
   ]
  },
  {
   "cell_type": "markdown",
   "metadata": {},
   "source": [
    "### Take Away\n",
    "- With a p-value great than the significance level, we can say that there exists a significant difference between means."
   ]
  },
  {
   "cell_type": "code",
   "execution_count": 7,
   "metadata": {},
   "outputs": [
    {
     "data": {
      "text/plain": [
       "(1.2456742313314006, 0.29802306391968963)"
      ]
     },
     "execution_count": 7,
     "metadata": {},
     "output_type": "execute_result"
    },
    {
     "data": {
      "image/png": "[encoded data removed]",
      "text/plain": [
       "<Figure size 432x288 with 1 Axes>"
      ]
     },
     "metadata": {
      "needs_background": "light"
     },
     "output_type": "display_data"
    }
   ],
   "source": [
    "# check count of unique lemmatized words per readme\n",
    "viz.get_unique_lemmed_viz(train_viz_stats)\n",
    "f, p = stat_testing.get_unique_lemmed_anova(train_viz_stats)\n",
    "f, p"
   ]
  },
  {
   "cell_type": "markdown",
   "metadata": {},
   "source": [
    "### Take Away\n",
    "- With a p-value great than the significance level, we can say that there exists a significant difference between means."
   ]
  },
  {
   "cell_type": "markdown",
   "metadata": {},
   "source": [
    "## Exploration Summary:\n",
    "- The most common words between stemmed and lemmatize:\n",
    "  - food\n",
    "  - nutrition\n",
    "  - user\n",
    "  - use\n",
    "<p></p>\n",
    "\n",
    "- The IDF for the most common words:\n",
    "  - recipe\n",
    "  - gram\n",
    "  - database\n",
    "  - user\n",
    "  - file\n",
    "  - food\n",
    "  - data\n",
    "  - app\n",
    "  - use\n",
    "  - nutrition\n",
    "<p></p>\n",
    "\n",
    "- Means are significantly different when it comes to README length with Python leading.\n",
    "<p></p>\n",
    "\n",
    "- Means are significantly different when it comes to number of unique words with Python leading."
   ]
  },
  {
   "cell_type": "markdown",
   "metadata": {},
   "source": [
    "<hr style=\"border:2px solid blue\"> </hr>\n",
    "\n",
    "# <font color = 'blue'> Model\n",
    "\n",
    "- Our Baseline was predicting the majority class, which is this case was \"other\". The accuracy was between 44%."
   ]
  },
  {
   "cell_type": "markdown",
   "metadata": {},
   "source": [
    "### Baseline"
   ]
  },
  {
   "cell_type": "code",
   "execution_count": 8,
   "metadata": {},
   "outputs": [
    {
     "name": "stdout",
     "output_type": "stream",
     "text": [
      "Baseline Accuracy: 0.44\n"
     ]
    }
   ],
   "source": [
    "print(f\"Baseline Accuracy: {modeling.get_baseline(train)}\")"
   ]
  },
  {
   "cell_type": "markdown",
   "metadata": {},
   "source": [
    "## Modeling: Logistic Regression, Random Forest Classifier, KNN Classifier, and Decision Tree were used\n",
    "\n",
    "### Logistic Regression"
   ]
  },
  {
   "cell_type": "code",
   "execution_count": 9,
   "metadata": {},
   "outputs": [
    {
     "name": "stdout",
     "output_type": "stream",
     "text": [
      "TRAIN\n",
      "Logistics Regression Stemmed Accuracy: 0.83\n",
      "Logistics Regression Lemmed Accuracy: 0.83\n",
      "\n",
      "TEST\n",
      "Logistics Regression Stemmed Accuracy Test: 0.5\n",
      "Logistics Regression Lemmed Accuracy Test: 0.5\n"
     ]
    }
   ],
   "source": [
    "y_train_stemmed, y_test_stemmed = modeling.lr_stemm(y_train_stemmed, y_test_stemmed, X_train_stemmed, X_test_stemmed)\n",
    "y_train_lemmed, y_test_lemmed = modeling.lr_lemm(y_train_lemmed, y_test_lemmed, X_train_lemmed, X_test_lemmed)\n",
    "\n",
    "modeling.lr_print(y_train_lemmed, y_test_lemmed, y_train_stemmed, y_test_stemmed)"
   ]
  },
  {
   "cell_type": "markdown",
   "metadata": {},
   "source": [
    "### Random Forest Classifier"
   ]
  },
  {
   "cell_type": "code",
   "execution_count": 10,
   "metadata": {},
   "outputs": [
    {
     "name": "stdout",
     "output_type": "stream",
     "text": [
      "TRAIN\n",
      "Random Forest Classifier Stemmed Accuracy: 0.7\n",
      "Random Forest Classifier Lemmed Accuracy: 0.99\n",
      "\n",
      "TEST\n",
      "Random Forest Classifier Stemmed Accuracy Test: 0.46\n",
      "Random Forest Classifier Lemmed Accuracy Test: 0.54\n"
     ]
    }
   ],
   "source": [
    "modeling.print_rfc_metric(X_train_stemmed, X_test_stemmed, y_train_stemmed[\"actual\"], y_test_stemmed[\"actual\"], X_train_lemmed, X_test_lemmed, y_train_lemmed[\"actual\"], y_test_lemmed[\"actual\"])"
   ]
  },
  {
   "cell_type": "markdown",
   "metadata": {},
   "source": [
    "### KNN Classifier"
   ]
  },
  {
   "cell_type": "code",
   "execution_count": 11,
   "metadata": {},
   "outputs": [
    {
     "name": "stdout",
     "output_type": "stream",
     "text": [
      "Accuracy of KNN classifier on training set: 0.667\n",
      "Accuracy of KNN classifier on test set: 0.500\n"
     ]
    }
   ],
   "source": [
    "modeling.knn_stemmed(X_train_stemmed, y_train_stemmed[\"actual\"], X_test_stemmed, y_test_stemmed[\"actual\"])"
   ]
  },
  {
   "cell_type": "code",
   "execution_count": 12,
   "metadata": {},
   "outputs": [
    {
     "name": "stdout",
     "output_type": "stream",
     "text": [
      "Accuracy of KNN classifier on train set: 0.624\n",
      "Accuracy of KNN classifier on test set: 0.458\n"
     ]
    }
   ],
   "source": [
    "modeling.knn_lemmed(X_train_lemmed, y_train_lemmed[\"actual\"], X_test_lemmed, y_test_lemmed[\"actual\"])"
   ]
  },
  {
   "cell_type": "markdown",
   "metadata": {},
   "source": [
    "### Decision Tree Classifier"
   ]
  },
  {
   "cell_type": "code",
   "execution_count": 13,
   "metadata": {},
   "outputs": [
    {
     "name": "stdout",
     "output_type": "stream",
     "text": [
      "Accuracy on Stemmed training set : 0.60\n",
      "Accuracy on Stemmed testing set : 0.33\n",
      "Accuracy on Lematized training set : 0.69\n",
      "Accuracy on Lematized testing set : 0.54\n"
     ]
    }
   ],
   "source": [
    "modeling.q3_dtree_model(X_train_stemmed, y_train_stemmed[\"actual\"], X_train_lemmed, y_train_lemmed[\"actual\"], X_test_stemmed, y_test_stemmed[\"actual\"], X_test_lemmed, y_test_lemmed[\"actual\"])"
   ]
  },
  {
   "cell_type": "markdown",
   "metadata": {},
   "source": [
    "##  Conclusion\n",
    "- There are significant differences between the mean length of each README per programming language.\n",
    "- There are significant differences between the mean of the amount of unique words in each README per programming language.\n",
    "- While the Logistic Regression did better than the Random Forest Classifier on stemmed README's, it was the opposite for lemmatized README's.\n",
    "- Logistic Regression and Random Forest Classifer are overfit.\n",
    "- Decision Tree Classifier was overfit.\n",
    "- The KNN Classifier was overfit by a smaller margin.\n",
    "\n",
    "## Recommendations and Next Steps\n",
    "- More data needs to be scraped. Due to time constraints, only 130 README's were obtained with 12 being removed during the cleaning process. The ideal amount of README's would be great than 1000 README's to have enough data for train, validate, and test."
   ]
  },
  {
   "cell_type": "markdown",
   "metadata": {},
   "source": []
  }
 ],
 "metadata": {
  "interpreter": {
   "hash": "3d597f4c481aa0f25dceb95d2a0067e73c0966dcbd003d741d821a7208527ecf"
  },
  "kernelspec": {
   "display_name": "Python 3",
   "language": "python",
   "name": "python3"
  },
  "language_info": {
   "codemirror_mode": {
    "name": "ipython",
    "version": 3
   },
   "file_extension": ".py",
   "mimetype": "text/x-python",
   "name": "python",
   "nbconvert_exporter": "python",
   "pygments_lexer": "ipython3",
   "version": "3.9.5"
  }
 },
 "nbformat": 4,
 "nbformat_minor": 2
}
