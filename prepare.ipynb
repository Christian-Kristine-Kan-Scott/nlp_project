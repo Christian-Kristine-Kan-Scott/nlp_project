{
 "cells": [
  {
   "cell_type": "code",
   "execution_count": 7,
   "metadata": {},
   "outputs": [],
   "source": [
    "# import json\n",
    "# import csv\n",
    "\n",
    "# with open('data.json') as json_file:\n",
    "#     data = json.load(json_file)\n",
    "# data\n",
    "\n",
    "# # now we will open a file for writing\n",
    "# data_file = open('data_file.csv', 'w', newline='')\n",
    "\n",
    "# csv_writer = csv.writer(data_file)\n",
    "\n",
    "# count = 0\n",
    "# for data in data:\n",
    "#     if count == 0:\n",
    "#         header = data.keys()\n",
    "#         csv_writer.writerow(header)\n",
    "#         count += 1\n",
    "#     csv_writer.writerow(data.values())\n",
    "\n",
    "# data_file.close()"
   ]
  },
  {
   "cell_type": "code",
   "execution_count": 10,
   "metadata": {},
   "outputs": [
    {
     "data": {
      "text/plain": [
       "130"
      ]
     },
     "execution_count": 10,
     "metadata": {},
     "output_type": "execute_result"
    }
   ],
   "source": [
    "import pandas as pd\n",
    "nutrition_repos = pd.read_csv(\"data_file.csv\")\n",
    "len(nutrition_repos)"
   ]
  },
  {
   "cell_type": "code",
   "execution_count": 12,
   "metadata": {},
   "outputs": [
    {
     "data": {
      "text/plain": [
       "repo               0\n",
       "language           0\n",
       "readme_contents    0\n",
       "dtype: int64"
      ]
     },
     "execution_count": 12,
     "metadata": {},
     "output_type": "execute_result"
    }
   ],
   "source": [
    "nutrition_repos.dropna(axis=0, inplace=True)\n",
    "nutrition_repos.isnull().sum()"
   ]
  },
  {
   "cell_type": "code",
   "execution_count": 13,
   "metadata": {},
   "outputs": [
    {
     "data": {
      "text/plain": [
       "118"
      ]
     },
     "execution_count": 13,
     "metadata": {},
     "output_type": "execute_result"
    }
   ],
   "source": [
    "len(nutrition_repos)"
   ]
  },
  {
   "cell_type": "code",
   "execution_count": 16,
   "metadata": {},
   "outputs": [],
   "source": [
    "nutrition_repos.to_csv(\"data_file.csv\", index=False)"
   ]
  },
  {
   "cell_type": "code",
   "execution_count": 17,
   "metadata": {},
   "outputs": [
    {
     "data": {
      "text/html": [
       "<div>\n",
       "<style scoped>\n",
       "    .dataframe tbody tr th:only-of-type {\n",
       "        vertical-align: middle;\n",
       "    }\n",
       "\n",
       "    .dataframe tbody tr th {\n",
       "        vertical-align: top;\n",
       "    }\n",
       "\n",
       "    .dataframe thead th {\n",
       "        text-align: right;\n",
       "    }\n",
       "</style>\n",
       "<table border=\"1\" class=\"dataframe\">\n",
       "  <thead>\n",
       "    <tr style=\"text-align: right;\">\n",
       "      <th></th>\n",
       "      <th>repo</th>\n",
       "      <th>language</th>\n",
       "      <th>readme_contents</th>\n",
       "    </tr>\n",
       "  </thead>\n",
       "  <tbody>\n",
       "    <tr>\n",
       "      <th>0</th>\n",
       "      <td>WesCook/Nutrition</td>\n",
       "      <td>Java</td>\n",
       "      <td># Nutrition\\n\\nNutrition is a highly configura...</td>\n",
       "    </tr>\n",
       "    <tr>\n",
       "      <th>1</th>\n",
       "      <td>wangtianrui/NutritionMaster</td>\n",
       "      <td>Java</td>\n",
       "      <td>\\n## 营养大师\\n\\n一款基于数据分析的智能饮食推荐APP  \\n\\n仓库地址: htt...</td>\n",
       "    </tr>\n",
       "    <tr>\n",
       "      <th>2</th>\n",
       "      <td>nutritionix/nutrition-label</td>\n",
       "      <td>JavaScript</td>\n",
       "      <td>Nutrition Label jQuery Plugin by Nutritionix\\r...</td>\n",
       "    </tr>\n",
       "    <tr>\n",
       "      <th>3</th>\n",
       "      <td>openfoodfacts/off-nutrition-table-extractor</td>\n",
       "      <td>Jupyter Notebook</td>\n",
       "      <td>\\n# off-nutrition-table-extractor\\nThis reposi...</td>\n",
       "    </tr>\n",
       "    <tr>\n",
       "      <th>4</th>\n",
       "      <td>wger-project/wger</td>\n",
       "      <td>Python</td>\n",
       "      <td>﻿# wger\\n&lt;img src=\"https://raw.githubuserconte...</td>\n",
       "    </tr>\n",
       "  </tbody>\n",
       "</table>\n",
       "</div>"
      ],
      "text/plain": [
       "                                          repo          language  \\\n",
       "0                            WesCook/Nutrition              Java   \n",
       "1                  wangtianrui/NutritionMaster              Java   \n",
       "2                  nutritionix/nutrition-label        JavaScript   \n",
       "3  openfoodfacts/off-nutrition-table-extractor  Jupyter Notebook   \n",
       "4                            wger-project/wger            Python   \n",
       "\n",
       "                                     readme_contents  \n",
       "0  # Nutrition\\n\\nNutrition is a highly configura...  \n",
       "1  \\n## 营养大师\\n\\n一款基于数据分析的智能饮食推荐APP  \\n\\n仓库地址: htt...  \n",
       "2  Nutrition Label jQuery Plugin by Nutritionix\\r...  \n",
       "3  \\n# off-nutrition-table-extractor\\nThis reposi...  \n",
       "4  ﻿# wger\\n<img src=\"https://raw.githubuserconte...  "
      ]
     },
     "execution_count": 17,
     "metadata": {},
     "output_type": "execute_result"
    }
   ],
   "source": [
    "a = pd.read_csv(\"data_file.csv\")\n",
    "a.head()"
   ]
  },
  {
   "cell_type": "code",
   "execution_count": null,
   "metadata": {},
   "outputs": [],
   "source": []
  }
 ],
 "metadata": {
  "interpreter": {
   "hash": "3d597f4c481aa0f25dceb95d2a0067e73c0966dcbd003d741d821a7208527ecf"
  },
  "kernelspec": {
   "display_name": "Python 3.9.5 64-bit ('base': conda)",
   "language": "python",
   "name": "python3"
  },
  "language_info": {
   "codemirror_mode": {
    "name": "ipython",
    "version": 3
   },
   "file_extension": ".py",
   "mimetype": "text/x-python",
   "name": "python",
   "nbconvert_exporter": "python",
   "pygments_lexer": "ipython3",
   "version": "3.9.5"
  },
  "orig_nbformat": 4
 },
 "nbformat": 4,
 "nbformat_minor": 2
}
